{
 "cells": [
  {
   "cell_type": "code",
   "execution_count": 9,
   "metadata": {},
   "outputs": [],
   "source": [
    "%matplotlib inline\n",
    "import pandas as pd\n",
    "import numpy as np\n",
    "import seaborn as sns\n",
    "import ast\n",
    "from tqdm import tqdm\n",
    "from sklearn.preprocessing import LabelEncoder\n",
    "sns.set()\n",
    "\n",
    "from pyathena import connect"
   ]
  },
  {
   "cell_type": "code",
   "execution_count": 10,
   "metadata": {},
   "outputs": [],
   "source": [
    "conn = connect(s3_staging_dir='s3://aws-athena-query-results-415718651610-us-east-1', region_name='us-east-1')\n",
    "df = pd.read_sql(\"SELECT * FROM das.ocorrencias limit 50000\", conn)"
   ]
  },
  {
   "cell_type": "code",
   "execution_count": 11,
   "metadata": {},
   "outputs": [
    {
     "data": {
      "text/html": [
       "<div>\n",
       "<style scoped>\n",
       "    .dataframe tbody tr th:only-of-type {\n",
       "        vertical-align: middle;\n",
       "    }\n",
       "\n",
       "    .dataframe tbody tr th {\n",
       "        vertical-align: top;\n",
       "    }\n",
       "\n",
       "    .dataframe thead th {\n",
       "        text-align: right;\n",
       "    }\n",
       "</style>\n",
       "<table border=\"1\" class=\"dataframe\">\n",
       "  <thead>\n",
       "    <tr style=\"text-align: right;\">\n",
       "      <th></th>\n",
       "      <th>duracao_s</th>\n",
       "    </tr>\n",
       "  </thead>\n",
       "  <tbody>\n",
       "    <tr>\n",
       "      <th>count</th>\n",
       "      <td>28546.000000</td>\n",
       "    </tr>\n",
       "    <tr>\n",
       "      <th>mean</th>\n",
       "      <td>5971.369194</td>\n",
       "    </tr>\n",
       "    <tr>\n",
       "      <th>std</th>\n",
       "      <td>26704.919253</td>\n",
       "    </tr>\n",
       "    <tr>\n",
       "      <th>min</th>\n",
       "      <td>0.000000</td>\n",
       "    </tr>\n",
       "    <tr>\n",
       "      <th>25%</th>\n",
       "      <td>120.000000</td>\n",
       "    </tr>\n",
       "    <tr>\n",
       "      <th>50%</th>\n",
       "      <td>300.000000</td>\n",
       "    </tr>\n",
       "    <tr>\n",
       "      <th>75%</th>\n",
       "      <td>900.000000</td>\n",
       "    </tr>\n",
       "    <tr>\n",
       "      <th>max</th>\n",
       "      <td>607500.000000</td>\n",
       "    </tr>\n",
       "  </tbody>\n",
       "</table>\n",
       "</div>"
      ],
      "text/plain": [
       "           duracao_s\n",
       "count   28546.000000\n",
       "mean     5971.369194\n",
       "std     26704.919253\n",
       "min         0.000000\n",
       "25%       120.000000\n",
       "50%       300.000000\n",
       "75%       900.000000\n",
       "max    607500.000000"
      ]
     },
     "execution_count": 11,
     "metadata": {},
     "output_type": "execute_result"
    }
   ],
   "source": [
    "df.describe()"
   ]
  },
  {
   "cell_type": "code",
   "execution_count": 12,
   "metadata": {},
   "outputs": [
    {
     "data": {
      "text/html": [
       "<div>\n",
       "<style scoped>\n",
       "    .dataframe tbody tr th:only-of-type {\n",
       "        vertical-align: middle;\n",
       "    }\n",
       "\n",
       "    .dataframe tbody tr th {\n",
       "        vertical-align: top;\n",
       "    }\n",
       "\n",
       "    .dataframe thead th {\n",
       "        text-align: right;\n",
       "    }\n",
       "</style>\n",
       "<table border=\"1\" class=\"dataframe\">\n",
       "  <thead>\n",
       "    <tr style=\"text-align: right;\">\n",
       "      <th></th>\n",
       "      <th>nome</th>\n",
       "      <th>host</th>\n",
       "      <th>abertura</th>\n",
       "      <th>fechamento</th>\n",
       "      <th>duracao_s</th>\n",
       "    </tr>\n",
       "  </thead>\n",
       "  <tbody>\n",
       "    <tr>\n",
       "      <th>0</th>\n",
       "      <td>Chove em João Pessoa Joao Pessoa</td>\n",
       "      <td>Joao Pessoa</td>\n",
       "      <td>2019-03-26 14:43:59</td>\n",
       "      <td>2019-03-26 14:58:59</td>\n",
       "      <td>900</td>\n",
       "    </tr>\n",
       "    <tr>\n",
       "      <th>1</th>\n",
       "      <td>Chove em João Pessoa Joao Pessoa</td>\n",
       "      <td>Joao Pessoa</td>\n",
       "      <td>2019-03-26 14:43:59</td>\n",
       "      <td>2019-03-26 14:58:59</td>\n",
       "      <td>900</td>\n",
       "    </tr>\n",
       "    <tr>\n",
       "      <th>2</th>\n",
       "      <td>Chove em João Pessoa Joao Pessoa</td>\n",
       "      <td>Joao Pessoa</td>\n",
       "      <td>2019-03-26 14:43:59</td>\n",
       "      <td>2019-03-26 14:58:59</td>\n",
       "      <td>900</td>\n",
       "    </tr>\n",
       "    <tr>\n",
       "      <th>3</th>\n",
       "      <td>Chove em João Pessoa Joao Pessoa</td>\n",
       "      <td>Joao Pessoa</td>\n",
       "      <td>2019-03-26 14:43:59</td>\n",
       "      <td>2019-03-26 14:58:59</td>\n",
       "      <td>900</td>\n",
       "    </tr>\n",
       "    <tr>\n",
       "      <th>4</th>\n",
       "      <td>Utilização de Download no link INTEGRA_VIVO ac...</td>\n",
       "      <td>INT-poa-fw</td>\n",
       "      <td>2019-03-29 16:05:05</td>\n",
       "      <td>2019-03-29 16:06:04</td>\n",
       "      <td>59</td>\n",
       "    </tr>\n",
       "  </tbody>\n",
       "</table>\n",
       "</div>"
      ],
      "text/plain": [
       "                                                nome         host  \\\n",
       "0                   Chove em João Pessoa Joao Pessoa  Joao Pessoa   \n",
       "1                   Chove em João Pessoa Joao Pessoa  Joao Pessoa   \n",
       "2                   Chove em João Pessoa Joao Pessoa  Joao Pessoa   \n",
       "3                   Chove em João Pessoa Joao Pessoa  Joao Pessoa   \n",
       "4  Utilização de Download no link INTEGRA_VIVO ac...   INT-poa-fw   \n",
       "\n",
       "             abertura          fechamento  duracao_s  \n",
       "0 2019-03-26 14:43:59 2019-03-26 14:58:59        900  \n",
       "1 2019-03-26 14:43:59 2019-03-26 14:58:59        900  \n",
       "2 2019-03-26 14:43:59 2019-03-26 14:58:59        900  \n",
       "3 2019-03-26 14:43:59 2019-03-26 14:58:59        900  \n",
       "4 2019-03-29 16:05:05 2019-03-29 16:06:04         59  "
      ]
     },
     "execution_count": 12,
     "metadata": {},
     "output_type": "execute_result"
    }
   ],
   "source": [
    "df.head()"
   ]
  },
  {
   "cell_type": "code",
   "execution_count": 13,
   "metadata": {},
   "outputs": [],
   "source": [
    "df.dropna(inplace=True)"
   ]
  },
  {
   "cell_type": "code",
   "execution_count": 14,
   "metadata": {},
   "outputs": [],
   "source": [
    "table = pd.DataFrame(df)"
   ]
  },
  {
   "cell_type": "code",
   "execution_count": 15,
   "metadata": {},
   "outputs": [
    {
     "data": {
      "text/plain": [
       "array(['% used CPU is overloaded : 80.77 % (warn)',\n",
       "       '% used CPU is overloaded : 82.51 % (warn)',\n",
       "       '% used CPU is overloaded : 82.64 % (warn)', ...,\n",
       "       'salt-minion não está executando',\n",
       "       'sv-ca-spy has just been restarted',\n",
       "       '{$TIPO3}: PAY-spo-imaxis-vpn inacessível a partir do servidor PAY-smcd60csrv15'],\n",
       "      dtype=object)"
      ]
     },
     "execution_count": 15,
     "metadata": {},
     "output_type": "execute_result"
    }
   ],
   "source": [
    "np.unique(table.nome.values)"
   ]
  },
  {
   "cell_type": "code",
   "execution_count": 16,
   "metadata": {},
   "outputs": [],
   "source": [
    "lbe = LabelEncoder()\n",
    "table['name_encoded'] = lbe.fit_transform(table.nome.values)"
   ]
  },
  {
   "cell_type": "code",
   "execution_count": 17,
   "metadata": {},
   "outputs": [
    {
     "data": {
      "text/html": [
       "<div>\n",
       "<style scoped>\n",
       "    .dataframe tbody tr th:only-of-type {\n",
       "        vertical-align: middle;\n",
       "    }\n",
       "\n",
       "    .dataframe tbody tr th {\n",
       "        vertical-align: top;\n",
       "    }\n",
       "\n",
       "    .dataframe thead th {\n",
       "        text-align: right;\n",
       "    }\n",
       "</style>\n",
       "<table border=\"1\" class=\"dataframe\">\n",
       "  <thead>\n",
       "    <tr style=\"text-align: right;\">\n",
       "      <th></th>\n",
       "      <th>nome</th>\n",
       "      <th>host</th>\n",
       "      <th>abertura</th>\n",
       "      <th>fechamento</th>\n",
       "      <th>duracao_s</th>\n",
       "      <th>name_encoded</th>\n",
       "    </tr>\n",
       "  </thead>\n",
       "  <tbody>\n",
       "    <tr>\n",
       "      <th>0</th>\n",
       "      <td>Chove em João Pessoa Joao Pessoa</td>\n",
       "      <td>Joao Pessoa</td>\n",
       "      <td>2019-03-26 14:43:59</td>\n",
       "      <td>2019-03-26 14:58:59</td>\n",
       "      <td>900</td>\n",
       "      <td>787</td>\n",
       "    </tr>\n",
       "    <tr>\n",
       "      <th>1</th>\n",
       "      <td>Chove em João Pessoa Joao Pessoa</td>\n",
       "      <td>Joao Pessoa</td>\n",
       "      <td>2019-03-26 14:43:59</td>\n",
       "      <td>2019-03-26 14:58:59</td>\n",
       "      <td>900</td>\n",
       "      <td>787</td>\n",
       "    </tr>\n",
       "    <tr>\n",
       "      <th>2</th>\n",
       "      <td>Chove em João Pessoa Joao Pessoa</td>\n",
       "      <td>Joao Pessoa</td>\n",
       "      <td>2019-03-26 14:43:59</td>\n",
       "      <td>2019-03-26 14:58:59</td>\n",
       "      <td>900</td>\n",
       "      <td>787</td>\n",
       "    </tr>\n",
       "    <tr>\n",
       "      <th>3</th>\n",
       "      <td>Chove em João Pessoa Joao Pessoa</td>\n",
       "      <td>Joao Pessoa</td>\n",
       "      <td>2019-03-26 14:43:59</td>\n",
       "      <td>2019-03-26 14:58:59</td>\n",
       "      <td>900</td>\n",
       "      <td>787</td>\n",
       "    </tr>\n",
       "    <tr>\n",
       "      <th>4</th>\n",
       "      <td>Utilização de Download no link INTEGRA_VIVO ac...</td>\n",
       "      <td>INT-poa-fw</td>\n",
       "      <td>2019-03-29 16:05:05</td>\n",
       "      <td>2019-03-29 16:06:04</td>\n",
       "      <td>59</td>\n",
       "      <td>5283</td>\n",
       "    </tr>\n",
       "  </tbody>\n",
       "</table>\n",
       "</div>"
      ],
      "text/plain": [
       "                                                nome         host  \\\n",
       "0                   Chove em João Pessoa Joao Pessoa  Joao Pessoa   \n",
       "1                   Chove em João Pessoa Joao Pessoa  Joao Pessoa   \n",
       "2                   Chove em João Pessoa Joao Pessoa  Joao Pessoa   \n",
       "3                   Chove em João Pessoa Joao Pessoa  Joao Pessoa   \n",
       "4  Utilização de Download no link INTEGRA_VIVO ac...   INT-poa-fw   \n",
       "\n",
       "             abertura          fechamento  duracao_s  name_encoded  \n",
       "0 2019-03-26 14:43:59 2019-03-26 14:58:59        900           787  \n",
       "1 2019-03-26 14:43:59 2019-03-26 14:58:59        900           787  \n",
       "2 2019-03-26 14:43:59 2019-03-26 14:58:59        900           787  \n",
       "3 2019-03-26 14:43:59 2019-03-26 14:58:59        900           787  \n",
       "4 2019-03-29 16:05:05 2019-03-29 16:06:04         59          5283  "
      ]
     },
     "execution_count": 17,
     "metadata": {},
     "output_type": "execute_result"
    }
   ],
   "source": [
    "table.head()"
   ]
  },
  {
   "cell_type": "markdown",
   "metadata": {},
   "source": [
    "### Forma da distribuição da duração dos problemas"
   ]
  },
  {
   "cell_type": "code",
   "execution_count": 18,
   "metadata": {},
   "outputs": [
    {
     "data": {
      "text/plain": [
       "<matplotlib.axes._subplots.AxesSubplot at 0x11c16e9b0>"
      ]
     },
     "execution_count": 18,
     "metadata": {},
     "output_type": "execute_result"
    },
    {
     "data": {
      "image/png": "[encoded data removed]",
      "text/plain": [
       "<Figure size 432x288 with 1 Axes>"
      ]
     },
     "metadata": {},
     "output_type": "display_data"
    }
   ],
   "source": [
    "table[['nome','name_encoded']].plot.hist(bins=100)"
   ]
  },
  {
   "cell_type": "code",
   "execution_count": 19,
   "metadata": {},
   "outputs": [
    {
     "name": "stdout",
     "output_type": "stream",
     "text": [
      "Há um total de 6014 occorências nesta amostra\n"
     ]
    }
   ],
   "source": [
    "print(f'Há um total de {len(np.unique(table.name_encoded.values))} occorências nesta amostra')"
   ]
  },
  {
   "cell_type": "markdown",
   "metadata": {},
   "source": [
    "### Duracação médias dos problemas (início até serem resolvidos)\n",
    "\n",
    "A grande maioria é resolvido entre 0 e 25000 segundos. Há alguns pontos fora da normalidade que demoram mais para serem resolvidos como pode ser visto principalmente no boxplot."
   ]
  },
  {
   "cell_type": "code",
   "execution_count": 20,
   "metadata": {},
   "outputs": [
    {
     "data": {
      "text/plain": [
       "<matplotlib.axes._subplots.AxesSubplot at 0x11c66e390>"
      ]
     },
     "execution_count": 20,
     "metadata": {},
     "output_type": "execute_result"
    },
    {
     "data": {
      "image/png": "[encoded data removed]",
      "text/plain": [
       "<Figure size 432x288 with 1 Axes>"
      ]
     },
     "metadata": {},
     "output_type": "display_data"
    }
   ],
   "source": [
    "table.groupby('name_encoded').duracao_s.mean().plot.hist(bins=4)"
   ]
  },
  {
   "cell_type": "code",
   "execution_count": 21,
   "metadata": {},
   "outputs": [
    {
     "data": {
      "text/plain": [
       "<matplotlib.axes._subplots.AxesSubplot at 0x11c71bef0>"
      ]
     },
     "execution_count": 21,
     "metadata": {},
     "output_type": "execute_result"
    },
    {
     "data": {
      "image/png": "[encoded data removed]",
      "text/plain": [
       "<Figure size 432x288 with 1 Axes>"
      ]
     },
     "metadata": {},
     "output_type": "display_data"
    }
   ],
   "source": [
    "table.groupby('name_encoded').duracao_s.mean().plot.box()"
   ]
  },
  {
   "cell_type": "markdown",
   "metadata": {},
   "source": [
    "## Análise da duração do problema que mais ocorre"
   ]
  },
  {
   "cell_type": "code",
   "execution_count": 22,
   "metadata": {},
   "outputs": [],
   "source": [
    "key_value = dict(table.groupby('name_encoded').name_encoded.count())"
   ]
  },
  {
   "cell_type": "code",
   "execution_count": 23,
   "metadata": {},
   "outputs": [],
   "source": [
    "greater_problem = max(key_value, key=key_value.get)"
   ]
  },
  {
   "cell_type": "code",
   "execution_count": 24,
   "metadata": {},
   "outputs": [
    {
     "name": "stdout",
     "output_type": "stream",
     "text": [
      "O problema que mais ocorre é o CPU acima de 90\n"
     ]
    }
   ],
   "source": [
    "print(f'O problema que mais ocorre é o {table[table[\"name_encoded\"]==greater_problem][\"nome\"].iloc[0]}')"
   ]
  },
  {
   "cell_type": "code",
   "execution_count": 25,
   "metadata": {},
   "outputs": [],
   "source": [
    "sub_table =table[table['name_encoded']==greater_problem]"
   ]
  },
  {
   "cell_type": "code",
   "execution_count": 26,
   "metadata": {},
   "outputs": [
    {
     "data": {
      "text/html": [
       "<div>\n",
       "<style scoped>\n",
       "    .dataframe tbody tr th:only-of-type {\n",
       "        vertical-align: middle;\n",
       "    }\n",
       "\n",
       "    .dataframe tbody tr th {\n",
       "        vertical-align: top;\n",
       "    }\n",
       "\n",
       "    .dataframe thead th {\n",
       "        text-align: right;\n",
       "    }\n",
       "</style>\n",
       "<table border=\"1\" class=\"dataframe\">\n",
       "  <thead>\n",
       "    <tr style=\"text-align: right;\">\n",
       "      <th></th>\n",
       "      <th>duracao_s</th>\n",
       "    </tr>\n",
       "  </thead>\n",
       "  <tbody>\n",
       "    <tr>\n",
       "      <th>count</th>\n",
       "      <td>1208.000000</td>\n",
       "    </tr>\n",
       "    <tr>\n",
       "      <th>mean</th>\n",
       "      <td>439.387417</td>\n",
       "    </tr>\n",
       "    <tr>\n",
       "      <th>std</th>\n",
       "      <td>1039.326088</td>\n",
       "    </tr>\n",
       "    <tr>\n",
       "      <th>min</th>\n",
       "      <td>59.000000</td>\n",
       "    </tr>\n",
       "    <tr>\n",
       "      <th>25%</th>\n",
       "      <td>60.000000</td>\n",
       "    </tr>\n",
       "    <tr>\n",
       "      <th>50%</th>\n",
       "      <td>180.000000</td>\n",
       "    </tr>\n",
       "    <tr>\n",
       "      <th>75%</th>\n",
       "      <td>360.000000</td>\n",
       "    </tr>\n",
       "    <tr>\n",
       "      <th>max</th>\n",
       "      <td>20580.000000</td>\n",
       "    </tr>\n",
       "  </tbody>\n",
       "</table>\n",
       "</div>"
      ],
      "text/plain": [
       "          duracao_s\n",
       "count   1208.000000\n",
       "mean     439.387417\n",
       "std     1039.326088\n",
       "min       59.000000\n",
       "25%       60.000000\n",
       "50%      180.000000\n",
       "75%      360.000000\n",
       "max    20580.000000"
      ]
     },
     "execution_count": 26,
     "metadata": {},
     "output_type": "execute_result"
    }
   ],
   "source": [
    "sub_table[['duracao_s']].describe()"
   ]
  },
  {
   "cell_type": "code",
   "execution_count": 27,
   "metadata": {},
   "outputs": [
    {
     "data": {
      "text/plain": [
       "<matplotlib.axes._subplots.AxesSubplot at 0x11c255c50>"
      ]
     },
     "execution_count": 27,
     "metadata": {},
     "output_type": "execute_result"
    },
    {
     "data": {
      "image/png": "[encoded data removed]",
      "text/plain": [
       "<Figure size 432x288 with 1 Axes>"
      ]
     },
     "metadata": {},
     "output_type": "display_data"
    }
   ],
   "source": [
    "sub_table[['duracao_s']].plot.hist()"
   ]
  },
  {
   "cell_type": "code",
   "execution_count": 28,
   "metadata": {},
   "outputs": [
    {
     "data": {
      "text/plain": [
       "<matplotlib.axes._subplots.AxesSubplot at 0x11cb8def0>"
      ]
     },
     "execution_count": 28,
     "metadata": {},
     "output_type": "execute_result"
    },
    {
     "data": {
      "image/png": "[encoded data removed]",
      "text/plain": [
       "<Figure size 432x288 with 1 Axes>"
      ]
     },
     "metadata": {},
     "output_type": "display_data"
    }
   ],
   "source": [
    "sub_table[['duracao_s']].plot.box()"
   ]
  },
  {
   "cell_type": "markdown",
   "metadata": {},
   "source": [
    "## Analisando relação entre as ocorrências"
   ]
  },
  {
   "cell_type": "code",
   "execution_count": 68,
   "metadata": {},
   "outputs": [],
   "source": [
    "# Carregar dados em um dicionario\n",
    "dados = table.iloc[:].values"
   ]
  },
  {
   "cell_type": "code",
   "execution_count": 70,
   "metadata": {},
   "outputs": [],
   "source": [
    "dict_ocorrencia = {} # o dicionario armazena, para cada ocorrência, a lista de ocorrências que ocorreram no intervalo de 1 hora\n",
    "for i in range(len(dados)):\n",
    "    horario_limite = (dados[i][2])+pd.Timedelta(hours=1)\n",
    "    lista_ocorrencias = []\n",
    "    for j in range(i+1, len(dados)):\n",
    "        if (dados[j][2] <= horario_limite and dados[j][1] == dados[i][1]):\n",
    "            lista_ocorrencias.append([j, dados[j][5]])\n",
    "        else:\n",
    "            break\n",
    "    dict_ocorrencia[(i, dados[i][5])] = lista_ocorrencias  # tupla (id_ocorrencia, lista de ocorrências)"
   ]
  },
  {
   "cell_type": "code",
   "execution_count": 71,
   "metadata": {},
   "outputs": [],
   "source": [
    "def buscar_ocorrencias(name_encoded, dicionario): \n",
    "    chaves = dicionario.keys()\n",
    "    chaves_ocorrencias = []\n",
    "    for i in range(len(dicionario)):\n",
    "        if ((i, name_encoded) in chaves):\n",
    "            key = (i, name_encoded)\n",
    "            chaves_ocorrencias.append(key)\n",
    "    return chaves_ocorrencias # dado o código de um evento é retornado o(s) id(s) da(s) ocorrências que aquele evento ocorreu\n",
    "\n",
    "import collections\n",
    "\n",
    "def listar_ocorrencias(chaves, dicionario):\n",
    "    ocorrencias = []\n",
    "    for chave in chaves:\n",
    "        for i in range(len(dicionario[chave])):\n",
    "            ocorrencias.append(str(dicionario[chave][i][1]))\n",
    "    return collections.Counter(ocorrencias) # os eventos são organizados em uma coleção\n",
    "\n",
    "def gerar_grafico(coll_ocorrencias, n_ocorrencias):\n",
    "    mais_comum = dict(coll_ocorrencias.most_common(n_ocorrencias))\n",
    "    \n",
    "    import matplotlib.pyplot as plt\n",
    "    ocorr = list(mais_comum.keys())\n",
    "    qtd_ocorr = list(mais_comum.values())\n",
    "\n",
    "    plt.bar(ocorr, qtd_ocorr, color='red')\n",
    "    plt.xticks(ocorr)\n",
    "    plt.ylabel('qtd de ocorrências')\n",
    "    plt.xlabel('cod. ocorrência')\n",
    "    plt.rcParams['figure.figsize'] = (30,10)\n",
    "    plt.show()"
   ]
  },
  {
   "cell_type": "code",
   "execution_count": 72,
   "metadata": {},
   "outputs": [],
   "source": [
    "def run_analise_relacao(dicionario, cod_ocorrencia, n_ocorrencias):\n",
    "    keys = buscar_ocorrencias(cod_ocorrencia, dicionario)\n",
    "    c = listar_ocorrencias(keys, dicionario)\n",
    "    gerar_grafico(c, n_ocorrencias)"
   ]
  },
  {
   "cell_type": "code",
   "execution_count": 78,
   "metadata": {},
   "outputs": [
    {
     "data": {
      "image/png": "[encoded data removed]",
      "text/plain": [
       "<Figure size 2160x720 with 1 Axes>"
      ]
     },
     "metadata": {},
     "output_type": "display_data"
    }
   ],
   "source": [
    "# dados - em formato de dicionario c/ todas as ocorrências\n",
    "# cod_evento\n",
    "# qtd de eventos relacionados\n",
    "\n",
    "\n",
    "# o gráfico vai mostrar para dado um evento quais os n eventos que mais ocorreram\n",
    "\n",
    "import matplotlib.pyplot as plt\n",
    "plt.rcParams['figure.figsize'] = (30,10)\n",
    "run_analise_relacao(dict_ocorrencia, 732, 25)"
   ]
  },
  {
   "cell_type": "code",
   "execution_count": 79,
   "metadata": {},
   "outputs": [
    {
     "name": "stdout",
     "output_type": "stream",
     "text": [
      "Backup em MTF-mtz-cad está rodando\n",
      "Falha - Backup em MTF-mtz-cad com problema - Fatal\n",
      "Backup em MTF-mtz-cad solicitando mount\n"
     ]
    }
   ],
   "source": [
    "# pra saber o nome do evento\n",
    "print(lbe.classes_[732])\n",
    "print(lbe.classes_[1295])\n",
    "print(lbe.classes_[733])"
   ]
  },
  {
   "cell_type": "code",
   "execution_count": null,
   "metadata": {},
   "outputs": [],
   "source": []
  },
  {
   "cell_type": "code",
   "execution_count": null,
   "metadata": {},
   "outputs": [],
   "source": []
  }
 ],
 "metadata": {
  "kernelspec": {
   "display_name": "Python 3",
   "language": "python",
   "name": "python3"
  },
  "language_info": {
   "codemirror_mode": {
    "name": "ipython",
    "version": 3
   },
   "file_extension": ".py",
   "mimetype": "text/x-python",
   "name": "python",
   "nbconvert_exporter": "python",
   "pygments_lexer": "ipython3",
   "version": "3.7.1"
  }
 },
 "nbformat": 4,
 "nbformat_minor": 2
}
