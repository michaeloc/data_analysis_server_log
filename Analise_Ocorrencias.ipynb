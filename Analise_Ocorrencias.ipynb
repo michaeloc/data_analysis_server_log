{
 "cells": [
  {
   "cell_type": "code",
   "execution_count": 1,
   "metadata": {},
   "outputs": [],
   "source": [
    "%matplotlib inline\n",
    "import pandas as pd\n",
    "import numpy as np\n",
    "import seaborn as sns\n",
    "import ast\n",
    "from tqdm import tqdm\n",
    "import matplotlib.pyplot as plt\n",
    "from sklearn.preprocessing import LabelEncoder\n",
    "sns.set()\n",
    "\n",
    "from pyathena import connect"
   ]
  },
  {
   "cell_type": "code",
   "execution_count": 2,
   "metadata": {},
   "outputs": [],
   "source": [
    "servers = ['gGK07aOLxP5n6Mmn97WQ6rNvlbBkYZeA', 'yRkQEgqp9GWZz3B0LGdmwm75LbAnJ0OY']"
   ]
  },
  {
   "cell_type": "code",
   "execution_count": 3,
   "metadata": {},
   "outputs": [],
   "source": [
    "conn = connect(s3_staging_dir='s3://aws-athena-query-results-415718651610-us-east-1', region_name='us-east-1')\n",
    "df = pd.read_sql(f'SELECT \"nome\", \"host\", \"abertura\", \"fechamento\", \"duracao_s\", \"group\", \"itemvalue\", \"usc_das_id\" FROM das.ocorrencias WHERE usc_das_id = \\'{servers[0]}\\' ORDER BY abertura DESC limit 50000', conn)"
   ]
  },
  {
   "cell_type": "code",
   "execution_count": 4,
   "metadata": {},
   "outputs": [
    {
     "data": {
      "text/html": [
       "<div>\n",
       "<style scoped>\n",
       "    .dataframe tbody tr th:only-of-type {\n",
       "        vertical-align: middle;\n",
       "    }\n",
       "\n",
       "    .dataframe tbody tr th {\n",
       "        vertical-align: top;\n",
       "    }\n",
       "\n",
       "    .dataframe thead th {\n",
       "        text-align: right;\n",
       "    }\n",
       "</style>\n",
       "<table border=\"1\" class=\"dataframe\">\n",
       "  <thead>\n",
       "    <tr style=\"text-align: right;\">\n",
       "      <th></th>\n",
       "      <th>duracao_s</th>\n",
       "    </tr>\n",
       "  </thead>\n",
       "  <tbody>\n",
       "    <tr>\n",
       "      <th>count</th>\n",
       "      <td>1779.000000</td>\n",
       "    </tr>\n",
       "    <tr>\n",
       "      <th>mean</th>\n",
       "      <td>9030.666667</td>\n",
       "    </tr>\n",
       "    <tr>\n",
       "      <th>std</th>\n",
       "      <td>46735.484829</td>\n",
       "    </tr>\n",
       "    <tr>\n",
       "      <th>min</th>\n",
       "      <td>0.000000</td>\n",
       "    </tr>\n",
       "    <tr>\n",
       "      <th>25%</th>\n",
       "      <td>300.000000</td>\n",
       "    </tr>\n",
       "    <tr>\n",
       "      <th>50%</th>\n",
       "      <td>321.000000</td>\n",
       "    </tr>\n",
       "    <tr>\n",
       "      <th>75%</th>\n",
       "      <td>1197.500000</td>\n",
       "    </tr>\n",
       "    <tr>\n",
       "      <th>max</th>\n",
       "      <td>685733.000000</td>\n",
       "    </tr>\n",
       "  </tbody>\n",
       "</table>\n",
       "</div>"
      ],
      "text/plain": [
       "           duracao_s\n",
       "count    1779.000000\n",
       "mean     9030.666667\n",
       "std     46735.484829\n",
       "min         0.000000\n",
       "25%       300.000000\n",
       "50%       321.000000\n",
       "75%      1197.500000\n",
       "max    685733.000000"
      ]
     },
     "execution_count": 4,
     "metadata": {},
     "output_type": "execute_result"
    }
   ],
   "source": [
    "df.describe()"
   ]
  },
  {
   "cell_type": "code",
   "execution_count": 5,
   "metadata": {},
   "outputs": [
    {
     "data": {
      "text/html": [
       "<div>\n",
       "<style scoped>\n",
       "    .dataframe tbody tr th:only-of-type {\n",
       "        vertical-align: middle;\n",
       "    }\n",
       "\n",
       "    .dataframe tbody tr th {\n",
       "        vertical-align: top;\n",
       "    }\n",
       "\n",
       "    .dataframe thead th {\n",
       "        text-align: right;\n",
       "    }\n",
       "</style>\n",
       "<table border=\"1\" class=\"dataframe\">\n",
       "  <thead>\n",
       "    <tr style=\"text-align: right;\">\n",
       "      <th></th>\n",
       "      <th>nome</th>\n",
       "      <th>host</th>\n",
       "      <th>abertura</th>\n",
       "      <th>fechamento</th>\n",
       "      <th>duracao_s</th>\n",
       "      <th>group</th>\n",
       "      <th>itemvalue</th>\n",
       "      <th>usc_das_id</th>\n",
       "    </tr>\n",
       "  </thead>\n",
       "  <tbody>\n",
       "    <tr>\n",
       "      <th>0</th>\n",
       "      <td>Rota do Gateway Group: Navegacao_internet foi ...</td>\n",
       "      <td>MTF-mtz-fw</td>\n",
       "      <td>2019-04-13 06:52:43</td>\n",
       "      <td>2019-04-13 06:57:43</td>\n",
       "      <td>300</td>\n",
       "      <td>Metalfema</td>\n",
       "      <td>2</td>\n",
       "      <td>gGK07aOLxP5n6Mmn97WQ6rNvlbBkYZeA</td>\n",
       "    </tr>\n",
       "    <tr>\n",
       "      <th>1</th>\n",
       "      <td>High usage of pagefile.sys on MTF-mtz-ad01 : 1...</td>\n",
       "      <td>MTF-mtz-ad01</td>\n",
       "      <td>2019-04-13 06:44:58</td>\n",
       "      <td>2019-04-13 07:55:04</td>\n",
       "      <td>4206</td>\n",
       "      <td>Metalfema</td>\n",
       "      <td>100 %</td>\n",
       "      <td>gGK07aOLxP5n6Mmn97WQ6rNvlbBkYZeA</td>\n",
       "    </tr>\n",
       "    <tr>\n",
       "      <th>2</th>\n",
       "      <td>High usage of pagefile.sys on MTF-mtz-ad01 : 1...</td>\n",
       "      <td>MTF-mtz-ad01</td>\n",
       "      <td>2019-04-13 05:25:04</td>\n",
       "      <td>2019-04-13 06:44:25</td>\n",
       "      <td>4761</td>\n",
       "      <td>Metalfema</td>\n",
       "      <td>100 %</td>\n",
       "      <td>gGK07aOLxP5n6Mmn97WQ6rNvlbBkYZeA</td>\n",
       "    </tr>\n",
       "    <tr>\n",
       "      <th>3</th>\n",
       "      <td>Zabbix agent is unreachable for 10 minutes</td>\n",
       "      <td>SV-CD02</td>\n",
       "      <td>2019-04-13 03:44:47</td>\n",
       "      <td>2019-04-13 03:58:44</td>\n",
       "      <td>837</td>\n",
       "      <td>Lebes - Geral</td>\n",
       "      <td>Up (1)</td>\n",
       "      <td>gGK07aOLxP5n6Mmn97WQ6rNvlbBkYZeA</td>\n",
       "    </tr>\n",
       "    <tr>\n",
       "      <th>4</th>\n",
       "      <td>Zabbix agent is unreachable for 5 minutes</td>\n",
       "      <td>SV-CD02</td>\n",
       "      <td>2019-04-13 03:30:45</td>\n",
       "      <td>2019-04-13 03:58:44</td>\n",
       "      <td>1679</td>\n",
       "      <td>Lebes - Geral</td>\n",
       "      <td>Up (1)</td>\n",
       "      <td>gGK07aOLxP5n6Mmn97WQ6rNvlbBkYZeA</td>\n",
       "    </tr>\n",
       "  </tbody>\n",
       "</table>\n",
       "</div>"
      ],
      "text/plain": [
       "                                                nome          host  \\\n",
       "0  Rota do Gateway Group: Navegacao_internet foi ...    MTF-mtz-fw   \n",
       "1  High usage of pagefile.sys on MTF-mtz-ad01 : 1...  MTF-mtz-ad01   \n",
       "2  High usage of pagefile.sys on MTF-mtz-ad01 : 1...  MTF-mtz-ad01   \n",
       "3         Zabbix agent is unreachable for 10 minutes       SV-CD02   \n",
       "4          Zabbix agent is unreachable for 5 minutes       SV-CD02   \n",
       "\n",
       "             abertura          fechamento  duracao_s          group itemvalue  \\\n",
       "0 2019-04-13 06:52:43 2019-04-13 06:57:43        300      Metalfema         2   \n",
       "1 2019-04-13 06:44:58 2019-04-13 07:55:04       4206      Metalfema     100 %   \n",
       "2 2019-04-13 05:25:04 2019-04-13 06:44:25       4761      Metalfema     100 %   \n",
       "3 2019-04-13 03:44:47 2019-04-13 03:58:44        837  Lebes - Geral    Up (1)   \n",
       "4 2019-04-13 03:30:45 2019-04-13 03:58:44       1679  Lebes - Geral    Up (1)   \n",
       "\n",
       "                         usc_das_id  \n",
       "0  gGK07aOLxP5n6Mmn97WQ6rNvlbBkYZeA  \n",
       "1  gGK07aOLxP5n6Mmn97WQ6rNvlbBkYZeA  \n",
       "2  gGK07aOLxP5n6Mmn97WQ6rNvlbBkYZeA  \n",
       "3  gGK07aOLxP5n6Mmn97WQ6rNvlbBkYZeA  \n",
       "4  gGK07aOLxP5n6Mmn97WQ6rNvlbBkYZeA  "
      ]
     },
     "execution_count": 5,
     "metadata": {},
     "output_type": "execute_result"
    }
   ],
   "source": [
    "df.head()"
   ]
  },
  {
   "cell_type": "code",
   "execution_count": 6,
   "metadata": {},
   "outputs": [],
   "source": [
    "df.dropna(inplace=True)"
   ]
  },
  {
   "cell_type": "code",
   "execution_count": 7,
   "metadata": {},
   "outputs": [],
   "source": [
    "table = pd.DataFrame(df)"
   ]
  },
  {
   "cell_type": "code",
   "execution_count": 9,
   "metadata": {},
   "outputs": [
    {
     "data": {
      "text/plain": [
       "array(['Asun', 'Baguete - Amazon', 'Banco Renner', 'Banco Topazio',\n",
       "       'Dimed', 'Discovered hosts', 'Ecore', 'Hunter Douglas', 'Ilegra',\n",
       "       'Integra', 'Lebes - AP_CD03', 'Lebes - AWS', 'Lebes - CELL',\n",
       "       'Lebes - Filiais', 'Lebes - Geral', 'Macropan', 'Metalfema',\n",
       "       'OPnGO', 'Paysmart', 'Radan', 'Radicom', 'Renner', 'Sgnet',\n",
       "       'Unirede', 'Webmonitor Global', 'Zabbix Proxies', 'Zaffari',\n",
       "       'Zenvia'], dtype=object)"
      ]
     },
     "execution_count": 9,
     "metadata": {},
     "output_type": "execute_result"
    }
   ],
   "source": [
    "np.unique(table.group.values)"
   ]
  },
  {
   "cell_type": "code",
   "execution_count": 10,
   "metadata": {},
   "outputs": [],
   "source": [
    "lbe = LabelEncoder()\n",
    "table['name_encoded'] = lbe.fit_transform(table.nome.values)"
   ]
  },
  {
   "cell_type": "code",
   "execution_count": 11,
   "metadata": {},
   "outputs": [
    {
     "data": {
      "text/html": [
       "<div>\n",
       "<style scoped>\n",
       "    .dataframe tbody tr th:only-of-type {\n",
       "        vertical-align: middle;\n",
       "    }\n",
       "\n",
       "    .dataframe tbody tr th {\n",
       "        vertical-align: top;\n",
       "    }\n",
       "\n",
       "    .dataframe thead th {\n",
       "        text-align: right;\n",
       "    }\n",
       "</style>\n",
       "<table border=\"1\" class=\"dataframe\">\n",
       "  <thead>\n",
       "    <tr style=\"text-align: right;\">\n",
       "      <th></th>\n",
       "      <th>nome</th>\n",
       "      <th>host</th>\n",
       "      <th>abertura</th>\n",
       "      <th>fechamento</th>\n",
       "      <th>duracao_s</th>\n",
       "      <th>group</th>\n",
       "      <th>itemvalue</th>\n",
       "      <th>usc_das_id</th>\n",
       "      <th>name_encoded</th>\n",
       "    </tr>\n",
       "  </thead>\n",
       "  <tbody>\n",
       "    <tr>\n",
       "      <th>0</th>\n",
       "      <td>Rota do Gateway Group: Navegacao_internet foi ...</td>\n",
       "      <td>MTF-mtz-fw</td>\n",
       "      <td>2019-04-13 06:52:43</td>\n",
       "      <td>2019-04-13 06:57:43</td>\n",
       "      <td>300</td>\n",
       "      <td>Metalfema</td>\n",
       "      <td>2</td>\n",
       "      <td>gGK07aOLxP5n6Mmn97WQ6rNvlbBkYZeA</td>\n",
       "      <td>401</td>\n",
       "    </tr>\n",
       "    <tr>\n",
       "      <th>1</th>\n",
       "      <td>High usage of pagefile.sys on MTF-mtz-ad01 : 1...</td>\n",
       "      <td>MTF-mtz-ad01</td>\n",
       "      <td>2019-04-13 06:44:58</td>\n",
       "      <td>2019-04-13 07:55:04</td>\n",
       "      <td>4206</td>\n",
       "      <td>Metalfema</td>\n",
       "      <td>100 %</td>\n",
       "      <td>gGK07aOLxP5n6Mmn97WQ6rNvlbBkYZeA</td>\n",
       "      <td>273</td>\n",
       "    </tr>\n",
       "    <tr>\n",
       "      <th>2</th>\n",
       "      <td>High usage of pagefile.sys on MTF-mtz-ad01 : 1...</td>\n",
       "      <td>MTF-mtz-ad01</td>\n",
       "      <td>2019-04-13 05:25:04</td>\n",
       "      <td>2019-04-13 06:44:25</td>\n",
       "      <td>4761</td>\n",
       "      <td>Metalfema</td>\n",
       "      <td>100 %</td>\n",
       "      <td>gGK07aOLxP5n6Mmn97WQ6rNvlbBkYZeA</td>\n",
       "      <td>273</td>\n",
       "    </tr>\n",
       "    <tr>\n",
       "      <th>3</th>\n",
       "      <td>Zabbix agent is unreachable for 10 minutes</td>\n",
       "      <td>SV-CD02</td>\n",
       "      <td>2019-04-13 03:44:47</td>\n",
       "      <td>2019-04-13 03:58:44</td>\n",
       "      <td>837</td>\n",
       "      <td>Lebes - Geral</td>\n",
       "      <td>Up (1)</td>\n",
       "      <td>gGK07aOLxP5n6Mmn97WQ6rNvlbBkYZeA</td>\n",
       "      <td>426</td>\n",
       "    </tr>\n",
       "    <tr>\n",
       "      <th>4</th>\n",
       "      <td>Zabbix agent is unreachable for 5 minutes</td>\n",
       "      <td>SV-CD02</td>\n",
       "      <td>2019-04-13 03:30:45</td>\n",
       "      <td>2019-04-13 03:58:44</td>\n",
       "      <td>1679</td>\n",
       "      <td>Lebes - Geral</td>\n",
       "      <td>Up (1)</td>\n",
       "      <td>gGK07aOLxP5n6Mmn97WQ6rNvlbBkYZeA</td>\n",
       "      <td>428</td>\n",
       "    </tr>\n",
       "  </tbody>\n",
       "</table>\n",
       "</div>"
      ],
      "text/plain": [
       "                                                nome          host  \\\n",
       "0  Rota do Gateway Group: Navegacao_internet foi ...    MTF-mtz-fw   \n",
       "1  High usage of pagefile.sys on MTF-mtz-ad01 : 1...  MTF-mtz-ad01   \n",
       "2  High usage of pagefile.sys on MTF-mtz-ad01 : 1...  MTF-mtz-ad01   \n",
       "3         Zabbix agent is unreachable for 10 minutes       SV-CD02   \n",
       "4          Zabbix agent is unreachable for 5 minutes       SV-CD02   \n",
       "\n",
       "             abertura          fechamento  duracao_s          group itemvalue  \\\n",
       "0 2019-04-13 06:52:43 2019-04-13 06:57:43        300      Metalfema         2   \n",
       "1 2019-04-13 06:44:58 2019-04-13 07:55:04       4206      Metalfema     100 %   \n",
       "2 2019-04-13 05:25:04 2019-04-13 06:44:25       4761      Metalfema     100 %   \n",
       "3 2019-04-13 03:44:47 2019-04-13 03:58:44        837  Lebes - Geral    Up (1)   \n",
       "4 2019-04-13 03:30:45 2019-04-13 03:58:44       1679  Lebes - Geral    Up (1)   \n",
       "\n",
       "                         usc_das_id  name_encoded  \n",
       "0  gGK07aOLxP5n6Mmn97WQ6rNvlbBkYZeA           401  \n",
       "1  gGK07aOLxP5n6Mmn97WQ6rNvlbBkYZeA           273  \n",
       "2  gGK07aOLxP5n6Mmn97WQ6rNvlbBkYZeA           273  \n",
       "3  gGK07aOLxP5n6Mmn97WQ6rNvlbBkYZeA           426  \n",
       "4  gGK07aOLxP5n6Mmn97WQ6rNvlbBkYZeA           428  "
      ]
     },
     "execution_count": 11,
     "metadata": {},
     "output_type": "execute_result"
    }
   ],
   "source": [
    "table.head()"
   ]
  },
  {
   "cell_type": "markdown",
   "metadata": {},
   "source": [
    "### Forma da distribuição da duração dos problemas"
   ]
  },
  {
   "cell_type": "code",
   "execution_count": 12,
   "metadata": {},
   "outputs": [
    {
     "data": {
      "text/plain": [
       "<matplotlib.axes._subplots.AxesSubplot at 0x7f3e57a82f60>"
      ]
     },
     "execution_count": 12,
     "metadata": {},
     "output_type": "execute_result"
    },
    {
     "data": {
      "image/png": "[encoded data removed]",
      "text/plain": [
       "<Figure size 432x288 with 1 Axes>"
      ]
     },
     "metadata": {
      "needs_background": "light"
     },
     "output_type": "display_data"
    }
   ],
   "source": [
    "table[['nome','name_encoded']].plot.hist(bins=100)"
   ]
  },
  {
   "cell_type": "code",
   "execution_count": 13,
   "metadata": {},
   "outputs": [
    {
     "name": "stdout",
     "output_type": "stream",
     "text": [
      "Há um total de 437 occorências nesta amostra\n"
     ]
    }
   ],
   "source": [
    "print(f'Há um total de {len(np.unique(table.name_encoded.values))} occorências nesta amostra')"
   ]
  },
  {
   "cell_type": "markdown",
   "metadata": {},
   "source": [
    "### Duracação médias dos problemas (início até serem resolvidos)\n",
    "\n",
    "A grande maioria é resolvido entre 0 e 25000 segundos. Há alguns pontos fora da normalidade que demoram mais para serem resolvidos como pode ser visto principalmente no boxplot."
   ]
  },
  {
   "cell_type": "code",
   "execution_count": 14,
   "metadata": {},
   "outputs": [
    {
     "data": {
      "text/plain": [
       "<matplotlib.axes._subplots.AxesSubplot at 0x7f3e57a32a20>"
      ]
     },
     "execution_count": 14,
     "metadata": {},
     "output_type": "execute_result"
    },
    {
     "data": {
      "image/png": "[encoded data removed]",
      "text/plain": [
       "<Figure size 432x288 with 1 Axes>"
      ]
     },
     "metadata": {
      "needs_background": "light"
     },
     "output_type": "display_data"
    }
   ],
   "source": [
    "table.groupby('name_encoded').duracao_s.mean().plot.hist(bins=4)"
   ]
  },
  {
   "cell_type": "code",
   "execution_count": 15,
   "metadata": {},
   "outputs": [
    {
     "data": {
      "text/plain": [
       "<matplotlib.axes._subplots.AxesSubplot at 0x7f3e5c326f28>"
      ]
     },
     "execution_count": 15,
     "metadata": {},
     "output_type": "execute_result"
    },
    {
     "data": {
      "image/png": "[encoded data removed]",
      "text/plain": [
       "<Figure size 432x288 with 1 Axes>"
      ]
     },
     "metadata": {
      "needs_background": "light"
     },
     "output_type": "display_data"
    }
   ],
   "source": [
    "table.groupby('name_encoded').duracao_s.mean().plot.box()"
   ]
  },
  {
   "cell_type": "markdown",
   "metadata": {},
   "source": [
    "## Análise da duração do problema que mais ocorre"
   ]
  },
  {
   "cell_type": "code",
   "execution_count": 16,
   "metadata": {},
   "outputs": [],
   "source": [
    "key_value = dict(table.groupby('name_encoded').name_encoded.count())"
   ]
  },
  {
   "cell_type": "code",
   "execution_count": 17,
   "metadata": {},
   "outputs": [],
   "source": [
    "greater_problem = max(key_value, key=key_value.get)"
   ]
  },
  {
   "cell_type": "code",
   "execution_count": 18,
   "metadata": {},
   "outputs": [
    {
     "name": "stdout",
     "output_type": "stream",
     "text": [
      "O problema que mais ocorre é o Zabbix agent is unreachable for 5 minutes\n"
     ]
    }
   ],
   "source": [
    "print(f'O problema que mais ocorre é o {table[table[\"name_encoded\"]==greater_problem][\"nome\"].iloc[0]}')"
   ]
  },
  {
   "cell_type": "code",
   "execution_count": 19,
   "metadata": {},
   "outputs": [],
   "source": [
    "sub_table =table[table['name_encoded']==greater_problem]"
   ]
  },
  {
   "cell_type": "code",
   "execution_count": 20,
   "metadata": {},
   "outputs": [
    {
     "data": {
      "text/html": [
       "<div>\n",
       "<style scoped>\n",
       "    .dataframe tbody tr th:only-of-type {\n",
       "        vertical-align: middle;\n",
       "    }\n",
       "\n",
       "    .dataframe tbody tr th {\n",
       "        vertical-align: top;\n",
       "    }\n",
       "\n",
       "    .dataframe thead th {\n",
       "        text-align: right;\n",
       "    }\n",
       "</style>\n",
       "<table border=\"1\" class=\"dataframe\">\n",
       "  <thead>\n",
       "    <tr style=\"text-align: right;\">\n",
       "      <th></th>\n",
       "      <th>duracao_s</th>\n",
       "    </tr>\n",
       "  </thead>\n",
       "  <tbody>\n",
       "    <tr>\n",
       "      <th>count</th>\n",
       "      <td>290.000000</td>\n",
       "    </tr>\n",
       "    <tr>\n",
       "      <th>mean</th>\n",
       "      <td>10834.744828</td>\n",
       "    </tr>\n",
       "    <tr>\n",
       "      <th>std</th>\n",
       "      <td>53359.111392</td>\n",
       "    </tr>\n",
       "    <tr>\n",
       "      <th>min</th>\n",
       "      <td>18.000000</td>\n",
       "    </tr>\n",
       "    <tr>\n",
       "      <th>25%</th>\n",
       "      <td>300.000000</td>\n",
       "    </tr>\n",
       "    <tr>\n",
       "      <th>50%</th>\n",
       "      <td>300.000000</td>\n",
       "    </tr>\n",
       "    <tr>\n",
       "      <th>75%</th>\n",
       "      <td>360.000000</td>\n",
       "    </tr>\n",
       "    <tr>\n",
       "      <th>max</th>\n",
       "      <td>580491.000000</td>\n",
       "    </tr>\n",
       "  </tbody>\n",
       "</table>\n",
       "</div>"
      ],
      "text/plain": [
       "           duracao_s\n",
       "count     290.000000\n",
       "mean    10834.744828\n",
       "std     53359.111392\n",
       "min        18.000000\n",
       "25%       300.000000\n",
       "50%       300.000000\n",
       "75%       360.000000\n",
       "max    580491.000000"
      ]
     },
     "execution_count": 20,
     "metadata": {},
     "output_type": "execute_result"
    }
   ],
   "source": [
    "sub_table[['duracao_s']].describe()"
   ]
  },
  {
   "cell_type": "code",
   "execution_count": 21,
   "metadata": {},
   "outputs": [
    {
     "data": {
      "text/plain": [
       "<matplotlib.axes._subplots.AxesSubplot at 0x7f3e578c17f0>"
      ]
     },
     "execution_count": 21,
     "metadata": {},
     "output_type": "execute_result"
    },
    {
     "data": {
      "image/png": "[encoded data removed]",
      "text/plain": [
       "<Figure size 432x288 with 1 Axes>"
      ]
     },
     "metadata": {
      "needs_background": "light"
     },
     "output_type": "display_data"
    }
   ],
   "source": [
    "sub_table[['duracao_s']].plot.hist()"
   ]
  },
  {
   "cell_type": "code",
   "execution_count": 22,
   "metadata": {},
   "outputs": [
    {
     "data": {
      "text/plain": [
       "<matplotlib.axes._subplots.AxesSubplot at 0x7f3e5c46fe10>"
      ]
     },
     "execution_count": 22,
     "metadata": {},
     "output_type": "execute_result"
    },
    {
     "data": {
      "image/png": "[encoded data removed]",
      "text/plain": [
       "<Figure size 432x288 with 1 Axes>"
      ]
     },
     "metadata": {
      "needs_background": "light"
     },
     "output_type": "display_data"
    }
   ],
   "source": [
    "sub_table[['duracao_s']].plot.box()"
   ]
  },
  {
   "cell_type": "markdown",
   "metadata": {},
   "source": [
    "## Analisando relação entre as ocorrências"
   ]
  },
  {
   "cell_type": "code",
   "execution_count": 23,
   "metadata": {},
   "outputs": [
    {
     "name": "stdout",
     "output_type": "stream",
     "text": [
      "Metalfema\n"
     ]
    }
   ],
   "source": [
    "# Carregar dados em um dicionario\n",
    "dados = table.iloc[:].values\n",
    "print(dados[0][5])"
   ]
  },
  {
   "cell_type": "code",
   "execution_count": 24,
   "metadata": {},
   "outputs": [],
   "source": [
    "dict_ocorrencia = {} # o dicionario armazena, para cada ocorrência, a lista de ocorrências que ocorreram no intervalo de 1 hora\n",
    "for i in range(len(dados)):\n",
    "    horario_limite = (dados[i][2])+pd.Timedelta(hours=1)\n",
    "    lista_ocorrencias = []\n",
    "    for j in range(i+1, len(dados)):\n",
    "        if (dados[j][2] <= horario_limite and dados[j][1] == dados[i][1]):\n",
    "            lista_ocorrencias.append([j, dados[j][5]])\n",
    "        else:\n",
    "            break\n",
    "    dict_ocorrencia[(i, dados[i][5])] = lista_ocorrencias  # tupla (id_ocorrencia, lista de ocorrências)"
   ]
  },
  {
   "cell_type": "code",
   "execution_count": 25,
   "metadata": {},
   "outputs": [],
   "source": [
    "# intervalo de abertura e fechamento\n",
    "\n",
    "dict_ocorrencia_intervalo = {} # o dicionario armazena, para cada ocorrência, a lista de ocorrências que ocorreram no intervalo de 1 hora\n",
    "for i in range(len(dados)):\n",
    "    #horario_limite = (dados[i][2])+pd.Timedelta(hours=1)\n",
    "    lista_ocorrencias = []\n",
    "    for j in range(i+1, len(dados)):\n",
    "        if ( (dados[j][2] >= dados[i][2] and dados[j][2] <= dados[i][3]) and dados[j][1] == dados[i][1] ):\n",
    "        #if (dados[j][2] <= horario_limite and dados[j][1] == dados[i][1]):\n",
    "            lista_ocorrencias.append([j, dados[j][5]])\n",
    "        else:\n",
    "            break\n",
    "    dict_ocorrencia_intervalo[(i, dados[i][5])] = lista_ocorrencias  # tupla (id_ocorrencia, lista de ocorrências)"
   ]
  },
  {
   "cell_type": "code",
   "execution_count": 26,
   "metadata": {},
   "outputs": [
    {
     "name": "stderr",
     "output_type": "stream",
     "text": [
      "100%|██████████| 1779/1779 [00:02<00:00, 769.45it/s]\n"
     ]
    }
   ],
   "source": [
    "from tqdm import tqdm\n",
    "# 30 min antes e 1 hora depois\n",
    "\n",
    "dict_ocorrencia_1 = {} # o dicionario armazena, para cada ocorrência, a lista de ocorrências que ocorreram no intervalo de 1 hora\n",
    "for i in tqdm(range(len(dados))):\n",
    "    horario_antes = (dados[i][2])-pd.Timedelta(minutes=30)\n",
    "    horario_depois = (dados[i][2])+pd.Timedelta(hours=1)\n",
    "    lista_ocorrencias = []\n",
    "    for j in range(len(dados)):\n",
    "        if ( (dados[j][2] >= horario_antes and dados[j][2] <= horario_depois) and dados[j][1] == dados[i][1] ):\n",
    "        #if (dados[j][2] <= horario_limite and dados[j][1] == dados[i][1]):\n",
    "            lista_ocorrencias.append([j, dados[j][5]])\n",
    "        #else:\n",
    "            #break\n",
    "    dict_ocorrencia_1[(i, dados[i][5])] = lista_ocorrencias  # tupla (id_ocorrencia, lista de ocorrências)"
   ]
  },
  {
   "cell_type": "code",
   "execution_count": 30,
   "metadata": {},
   "outputs": [],
   "source": [
    "def buscar_ocorrencias(name_encoded, dicionario): \n",
    "    chaves = dicionario.keys()\n",
    "    chaves_ocorrencias = []\n",
    "    for i in range(len(dicionario)):\n",
    "        if ((i, name_encoded) in chaves):\n",
    "            key = (i, name_encoded)\n",
    "            chaves_ocorrencias.append(key)\n",
    "    return chaves_ocorrencias # dado o código de um evento é retornado o(s) id(s) da(s) ocorrências que aquele evento ocorreu\n",
    "\n",
    "import collections\n",
    "\n",
    "def listar_ocorrencias(chaves, dicionario):\n",
    "    ocorrencias = []\n",
    "    for chave in chaves:\n",
    "        for i in range(len(dicionario[chave])):\n",
    "            ocorrencias.append(str(dicionario[chave][i][1]))\n",
    "    return collections.Counter(ocorrencias) # os eventos são organizados em uma coleção\n",
    "\n",
    "def gerar_grafico(coll_ocorrencias, n_ocorrencias):\n",
    "    mais_comum = dict(coll_ocorrencias.most_common(n_ocorrencias))\n",
    "    \n",
    "    import matplotlib.pyplot as plt\n",
    "    ocorr = list(mais_comum.keys())\n",
    "    qtd_ocorr = list(mais_comum.values())\n",
    "\n",
    "    plt.bar(ocorr, qtd_ocorr, color='red', width=0.2)\n",
    "    plt.xticks(ocorr)\n",
    "    plt.ylabel('qtd de ocorrências')\n",
    "    plt.xlabel('cod. evento')\n",
    "    plt.rcParams['figure.figsize'] = (30,10)\n",
    "    plt.show()"
   ]
  },
  {
   "cell_type": "code",
   "execution_count": 31,
   "metadata": {},
   "outputs": [],
   "source": [
    "def run_analise_relacao(dicionario, cod_ocorrencia, n_ocorrencias):\n",
    "    keys = buscar_ocorrencias(cod_ocorrencia, dicionario)\n",
    "    c = listar_ocorrencias(keys, dicionario)\n",
    "    gerar_grafico(c, n_ocorrencias)"
   ]
  },
  {
   "cell_type": "code",
   "execution_count": 32,
   "metadata": {},
   "outputs": [
    {
     "data": {
      "image/png": "[encoded data removed]",
      "text/plain": [
       "<Figure size 1440x720 with 1 Axes>"
      ]
     },
     "metadata": {
      "needs_background": "light"
     },
     "output_type": "display_data"
    }
   ],
   "source": [
    "# dados - em formato de dicionario c/ todas as ocorrências\n",
    "# cod_evento\n",
    "# qtd de eventos relacionados\n",
    "\n",
    "\n",
    "# o gráfico vai mostrar para dado um evento quais os n eventos que mais ocorreram\n",
    "\n",
    "import matplotlib.pyplot as plt\n",
    "plt.rcParams['figure.figsize'] = (20,10)\n",
    "run_analise_relacao(dict_ocorrencia_1, 3340, 25)"
   ]
  },
  {
   "cell_type": "markdown",
   "metadata": {},
   "source": [
    "A abordagem de considerar um intervalo antes e depois de uma ocorrência parece ser interessante. Observe o gráfico acima. O evento 'Gateway REDEMETAGW Down' tem três principais eventos que co-ocorrem na maioria das vezes (.85 - .79%)\n",
    "\n",
    "* Rota do Gateway Group: Redemeta_Priority foi alterada\n",
    "* Rota do Gateway Group: EAD_Priority foi alterada\n",
    "* Rota do Gateway Group: EAD_Priority usando gateway alternativo"
   ]
  },
  {
   "cell_type": "code",
   "execution_count": 33,
   "metadata": {
    "scrolled": true
   },
   "outputs": [
    {
     "name": "stdout",
     "output_type": "stream",
     "text": [
      "Rota do Gateway Group: Saida_GVT_Acesso_em_clientes foi alterada\n",
      "Perda de pacotes em Link_Externo_Filial144 maior que 30 %\n",
      "Perda de pacotes em LBS-f150-LinkExterno maior que 30 %\n",
      "Perda de pacotes em LBS-f150-wifi maior que 30 %\n"
     ]
    }
   ],
   "source": [
    "# pra saber o nome do evento\n",
    "print(lbe.classes_[404])\n",
    "print(lbe.classes_[355])\n",
    "print(lbe.classes_[340])\n",
    "print(lbe.classes_[341])"
   ]
  },
  {
   "cell_type": "markdown",
   "metadata": {},
   "source": [
    "## Análise de relação por dia"
   ]
  },
  {
   "cell_type": "code",
   "execution_count": 34,
   "metadata": {},
   "outputs": [
    {
     "data": {
      "text/html": [
       "<div>\n",
       "<style scoped>\n",
       "    .dataframe tbody tr th:only-of-type {\n",
       "        vertical-align: middle;\n",
       "    }\n",
       "\n",
       "    .dataframe tbody tr th {\n",
       "        vertical-align: top;\n",
       "    }\n",
       "\n",
       "    .dataframe thead th {\n",
       "        text-align: right;\n",
       "    }\n",
       "</style>\n",
       "<table border=\"1\" class=\"dataframe\">\n",
       "  <thead>\n",
       "    <tr style=\"text-align: right;\">\n",
       "      <th></th>\n",
       "      <th>nome</th>\n",
       "      <th>host</th>\n",
       "      <th>abertura</th>\n",
       "      <th>fechamento</th>\n",
       "      <th>duracao_s</th>\n",
       "      <th>group</th>\n",
       "      <th>itemvalue</th>\n",
       "      <th>usc_das_id</th>\n",
       "      <th>name_encoded</th>\n",
       "    </tr>\n",
       "  </thead>\n",
       "  <tbody>\n",
       "    <tr>\n",
       "      <th>873</th>\n",
       "      <td>Rota do Gateway Group: Saida_GVT_Acesso_em_cli...</td>\n",
       "      <td>Host_USC-pri-fw</td>\n",
       "      <td>2019-04-03 16:41:16</td>\n",
       "      <td>2019-04-03 16:46:17</td>\n",
       "      <td>301</td>\n",
       "      <td>Unirede</td>\n",
       "      <td>1</td>\n",
       "      <td>gGK07aOLxP5n6Mmn97WQ6rNvlbBkYZeA</td>\n",
       "      <td>404</td>\n",
       "    </tr>\n",
       "    <tr>\n",
       "      <th>874</th>\n",
       "      <td>Rota do Gateway Group: Saida_GVT_Acesso_em_cli...</td>\n",
       "      <td>USC-pri-fw01</td>\n",
       "      <td>2019-04-03 16:41:15</td>\n",
       "      <td>2019-04-03 16:46:15</td>\n",
       "      <td>300</td>\n",
       "      <td>Unirede</td>\n",
       "      <td>1</td>\n",
       "      <td>gGK07aOLxP5n6Mmn97WQ6rNvlbBkYZeA</td>\n",
       "      <td>404</td>\n",
       "    </tr>\n",
       "    <tr>\n",
       "      <th>891</th>\n",
       "      <td>Rota do Gateway Group: Saida_GVT_Acesso_em_cli...</td>\n",
       "      <td>Host_USC-pri-fw</td>\n",
       "      <td>2019-04-03 15:46:17</td>\n",
       "      <td>2019-04-03 15:51:17</td>\n",
       "      <td>300</td>\n",
       "      <td>Unirede</td>\n",
       "      <td>2</td>\n",
       "      <td>gGK07aOLxP5n6Mmn97WQ6rNvlbBkYZeA</td>\n",
       "      <td>404</td>\n",
       "    </tr>\n",
       "    <tr>\n",
       "      <th>892</th>\n",
       "      <td>Rota do Gateway Group: Saida_GVT_Acesso_em_cli...</td>\n",
       "      <td>USC-pri-fw01</td>\n",
       "      <td>2019-04-03 15:46:15</td>\n",
       "      <td>2019-04-03 15:51:15</td>\n",
       "      <td>300</td>\n",
       "      <td>Unirede</td>\n",
       "      <td>2</td>\n",
       "      <td>gGK07aOLxP5n6Mmn97WQ6rNvlbBkYZeA</td>\n",
       "      <td>404</td>\n",
       "    </tr>\n",
       "  </tbody>\n",
       "</table>\n",
       "</div>"
      ],
      "text/plain": [
       "                                                  nome             host  \\\n",
       "873  Rota do Gateway Group: Saida_GVT_Acesso_em_cli...  Host_USC-pri-fw   \n",
       "874  Rota do Gateway Group: Saida_GVT_Acesso_em_cli...     USC-pri-fw01   \n",
       "891  Rota do Gateway Group: Saida_GVT_Acesso_em_cli...  Host_USC-pri-fw   \n",
       "892  Rota do Gateway Group: Saida_GVT_Acesso_em_cli...     USC-pri-fw01   \n",
       "\n",
       "               abertura          fechamento  duracao_s    group itemvalue  \\\n",
       "873 2019-04-03 16:41:16 2019-04-03 16:46:17        301  Unirede         1   \n",
       "874 2019-04-03 16:41:15 2019-04-03 16:46:15        300  Unirede         1   \n",
       "891 2019-04-03 15:46:17 2019-04-03 15:51:17        300  Unirede         2   \n",
       "892 2019-04-03 15:46:15 2019-04-03 15:51:15        300  Unirede         2   \n",
       "\n",
       "                           usc_das_id  name_encoded  \n",
       "873  gGK07aOLxP5n6Mmn97WQ6rNvlbBkYZeA           404  \n",
       "874  gGK07aOLxP5n6Mmn97WQ6rNvlbBkYZeA           404  \n",
       "891  gGK07aOLxP5n6Mmn97WQ6rNvlbBkYZeA           404  \n",
       "892  gGK07aOLxP5n6Mmn97WQ6rNvlbBkYZeA           404  "
      ]
     },
     "execution_count": 34,
     "metadata": {},
     "output_type": "execute_result"
    }
   ],
   "source": [
    "table.query('name_encoded in [404]')"
   ]
  },
  {
   "cell_type": "markdown",
   "metadata": {},
   "source": [
    "## Analisando ocorrências por Grupo"
   ]
  },
  {
   "cell_type": "code",
   "execution_count": 36,
   "metadata": {},
   "outputs": [
    {
     "name": "stdout",
     "output_type": "stream",
     "text": [
      "Quantidade de grupos: 28\n"
     ]
    }
   ],
   "source": [
    "print(f'Quantidade de grupos: {np.unique(table.group.values).shape[0]}')"
   ]
  },
  {
   "cell_type": "code",
   "execution_count": 37,
   "metadata": {},
   "outputs": [],
   "source": [
    "df = table.copy()\n",
    "lbe = LabelEncoder()\n",
    "df['group_encoded'] = lbe.fit_transform(df.group.values)\n",
    "df_group = df.groupby('group_encoded').name_encoded.agg(['size', 'count', 'nunique']).iloc[:50,:]"
   ]
  },
  {
   "cell_type": "markdown",
   "metadata": {},
   "source": [
    "### Quantidade ocorrências por grupo\n",
    "O primeiro plot leva em consideração a quantidade (independentemente se ocorre repetições de eventos)\n",
    "O segundo plot leva em consideração a quantidade sem repetições."
   ]
  },
  {
   "cell_type": "code",
   "execution_count": 38,
   "metadata": {
    "scrolled": true
   },
   "outputs": [
    {
     "data": {
      "text/plain": [
       "<matplotlib.axes._subplots.AxesSubplot at 0x7f3e4fcfc978>"
      ]
     },
     "execution_count": 38,
     "metadata": {},
     "output_type": "execute_result"
    },
    {
     "data": {
      "image/png": "[encoded data removed]",
      "text/plain": [
       "<Figure size 1080x576 with 1 Axes>"
      ]
     },
     "metadata": {
      "needs_background": "light"
     },
     "output_type": "display_data"
    }
   ],
   "source": [
    "plt.figure(figsize=(15,8))\n",
    "sns.barplot(x='group_encoded', y='count', data=df_group.reset_index())"
   ]
  },
  {
   "cell_type": "code",
   "execution_count": 39,
   "metadata": {},
   "outputs": [
    {
     "data": {
      "text/plain": [
       "<matplotlib.axes._subplots.AxesSubplot at 0x7f3e4fc833c8>"
      ]
     },
     "execution_count": 39,
     "metadata": {},
     "output_type": "execute_result"
    },
    {
     "data": {
      "image/png": "[encoded data removed]",
      "text/plain": [
       "<Figure size 1080x576 with 1 Axes>"
      ]
     },
     "metadata": {
      "needs_background": "light"
     },
     "output_type": "display_data"
    }
   ],
   "source": [
    "plt.figure(figsize=(15,8))\n",
    "sns.barplot(x='group_encoded', y='nunique', data=df_group.reset_index())"
   ]
  },
  {
   "cell_type": "code",
   "execution_count": 40,
   "metadata": {},
   "outputs": [
    {
     "name": "stderr",
     "output_type": "stream",
     "text": [
      "/home/mobility/anaconda/envs/michael_env/lib/python3.6/site-packages/sklearn/preprocessing/label.py:151: DeprecationWarning: The truth value of an empty array is ambiguous. Returning False, but in future this will result in an error. Use `array.size > 0` to check that an array is not empty.\n",
      "  if diff:\n"
     ]
    },
    {
     "data": {
      "text/plain": [
       "'Grupo com maior número de ocorrências: Unirede'"
      ]
     },
     "execution_count": 40,
     "metadata": {},
     "output_type": "execute_result"
    }
   ],
   "source": [
    "f'Grupo com maior número de ocorrências: {lbe.inverse_transform(df_group[df_group[\"count\"] == df_group[[\"count\"]].max()[0]].index[0])}'\n"
   ]
  },
  {
   "cell_type": "code",
   "execution_count": 41,
   "metadata": {},
   "outputs": [
    {
     "name": "stderr",
     "output_type": "stream",
     "text": [
      "/home/mobility/anaconda/envs/michael_env/lib/python3.6/site-packages/sklearn/preprocessing/label.py:151: DeprecationWarning: The truth value of an empty array is ambiguous. Returning False, but in future this will result in an error. Use `array.size > 0` to check that an array is not empty.\n",
      "  if diff:\n"
     ]
    },
    {
     "data": {
      "text/plain": [
       "'Grupo com maior número de ocorrências distintas: Unirede'"
      ]
     },
     "execution_count": 41,
     "metadata": {},
     "output_type": "execute_result"
    }
   ],
   "source": [
    "f'Grupo com maior número de ocorrências distintas: {lbe.inverse_transform(df_group[df_group[\"nunique\"] == df_group[[\"nunique\"]].max()[0]].index[0])}'\n"
   ]
  },
  {
   "cell_type": "code",
   "execution_count": 42,
   "metadata": {},
   "outputs": [
    {
     "data": {
      "text/html": [
       "<div>\n",
       "<style scoped>\n",
       "    .dataframe tbody tr th:only-of-type {\n",
       "        vertical-align: middle;\n",
       "    }\n",
       "\n",
       "    .dataframe tbody tr th {\n",
       "        vertical-align: top;\n",
       "    }\n",
       "\n",
       "    .dataframe thead th {\n",
       "        text-align: right;\n",
       "    }\n",
       "</style>\n",
       "<table border=\"1\" class=\"dataframe\">\n",
       "  <thead>\n",
       "    <tr style=\"text-align: right;\">\n",
       "      <th></th>\n",
       "      <th>size</th>\n",
       "      <th>count</th>\n",
       "      <th>nunique</th>\n",
       "    </tr>\n",
       "  </thead>\n",
       "  <tbody>\n",
       "    <tr>\n",
       "      <th>count</th>\n",
       "      <td>28.000000</td>\n",
       "      <td>28.000000</td>\n",
       "      <td>28.000000</td>\n",
       "    </tr>\n",
       "    <tr>\n",
       "      <th>mean</th>\n",
       "      <td>63.535714</td>\n",
       "      <td>63.535714</td>\n",
       "      <td>16.535714</td>\n",
       "    </tr>\n",
       "    <tr>\n",
       "      <th>std</th>\n",
       "      <td>124.316049</td>\n",
       "      <td>124.316049</td>\n",
       "      <td>42.345564</td>\n",
       "    </tr>\n",
       "    <tr>\n",
       "      <th>min</th>\n",
       "      <td>1.000000</td>\n",
       "      <td>1.000000</td>\n",
       "      <td>1.000000</td>\n",
       "    </tr>\n",
       "    <tr>\n",
       "      <th>25%</th>\n",
       "      <td>4.000000</td>\n",
       "      <td>4.000000</td>\n",
       "      <td>1.000000</td>\n",
       "    </tr>\n",
       "    <tr>\n",
       "      <th>50%</th>\n",
       "      <td>9.500000</td>\n",
       "      <td>9.500000</td>\n",
       "      <td>4.500000</td>\n",
       "    </tr>\n",
       "    <tr>\n",
       "      <th>75%</th>\n",
       "      <td>38.500000</td>\n",
       "      <td>38.500000</td>\n",
       "      <td>9.500000</td>\n",
       "    </tr>\n",
       "    <tr>\n",
       "      <th>max</th>\n",
       "      <td>492.000000</td>\n",
       "      <td>492.000000</td>\n",
       "      <td>222.000000</td>\n",
       "    </tr>\n",
       "  </tbody>\n",
       "</table>\n",
       "</div>"
      ],
      "text/plain": [
       "             size       count     nunique\n",
       "count   28.000000   28.000000   28.000000\n",
       "mean    63.535714   63.535714   16.535714\n",
       "std    124.316049  124.316049   42.345564\n",
       "min      1.000000    1.000000    1.000000\n",
       "25%      4.000000    4.000000    1.000000\n",
       "50%      9.500000    9.500000    4.500000\n",
       "75%     38.500000   38.500000    9.500000\n",
       "max    492.000000  492.000000  222.000000"
      ]
     },
     "execution_count": 42,
     "metadata": {},
     "output_type": "execute_result"
    }
   ],
   "source": [
    "df.groupby('group_encoded').name_encoded.agg(['size', 'count', 'nunique']).describe()"
   ]
  },
  {
   "cell_type": "code",
   "execution_count": 43,
   "metadata": {},
   "outputs": [
    {
     "data": {
      "text/html": [
       "<div>\n",
       "<style scoped>\n",
       "    .dataframe tbody tr th:only-of-type {\n",
       "        vertical-align: middle;\n",
       "    }\n",
       "\n",
       "    .dataframe tbody tr th {\n",
       "        vertical-align: top;\n",
       "    }\n",
       "\n",
       "    .dataframe thead th {\n",
       "        text-align: right;\n",
       "    }\n",
       "</style>\n",
       "<table border=\"1\" class=\"dataframe\">\n",
       "  <thead>\n",
       "    <tr style=\"text-align: right;\">\n",
       "      <th></th>\n",
       "      <th>nome</th>\n",
       "      <th>host</th>\n",
       "      <th>abertura</th>\n",
       "      <th>fechamento</th>\n",
       "      <th>duracao_s</th>\n",
       "      <th>group</th>\n",
       "      <th>itemvalue</th>\n",
       "      <th>usc_das_id</th>\n",
       "      <th>name_encoded</th>\n",
       "    </tr>\n",
       "  </thead>\n",
       "  <tbody>\n",
       "    <tr>\n",
       "      <th>0</th>\n",
       "      <td>Rota do Gateway Group: Navegacao_internet foi ...</td>\n",
       "      <td>MTF-mtz-fw</td>\n",
       "      <td>2019-04-13 06:52:43</td>\n",
       "      <td>2019-04-13 06:57:43</td>\n",
       "      <td>300</td>\n",
       "      <td>Metalfema</td>\n",
       "      <td>2</td>\n",
       "      <td>gGK07aOLxP5n6Mmn97WQ6rNvlbBkYZeA</td>\n",
       "      <td>401</td>\n",
       "    </tr>\n",
       "    <tr>\n",
       "      <th>1</th>\n",
       "      <td>High usage of pagefile.sys on MTF-mtz-ad01 : 1...</td>\n",
       "      <td>MTF-mtz-ad01</td>\n",
       "      <td>2019-04-13 06:44:58</td>\n",
       "      <td>2019-04-13 07:55:04</td>\n",
       "      <td>4206</td>\n",
       "      <td>Metalfema</td>\n",
       "      <td>100 %</td>\n",
       "      <td>gGK07aOLxP5n6Mmn97WQ6rNvlbBkYZeA</td>\n",
       "      <td>273</td>\n",
       "    </tr>\n",
       "    <tr>\n",
       "      <th>2</th>\n",
       "      <td>High usage of pagefile.sys on MTF-mtz-ad01 : 1...</td>\n",
       "      <td>MTF-mtz-ad01</td>\n",
       "      <td>2019-04-13 05:25:04</td>\n",
       "      <td>2019-04-13 06:44:25</td>\n",
       "      <td>4761</td>\n",
       "      <td>Metalfema</td>\n",
       "      <td>100 %</td>\n",
       "      <td>gGK07aOLxP5n6Mmn97WQ6rNvlbBkYZeA</td>\n",
       "      <td>273</td>\n",
       "    </tr>\n",
       "    <tr>\n",
       "      <th>3</th>\n",
       "      <td>Zabbix agent is unreachable for 10 minutes</td>\n",
       "      <td>SV-CD02</td>\n",
       "      <td>2019-04-13 03:44:47</td>\n",
       "      <td>2019-04-13 03:58:44</td>\n",
       "      <td>837</td>\n",
       "      <td>Lebes - Geral</td>\n",
       "      <td>Up (1)</td>\n",
       "      <td>gGK07aOLxP5n6Mmn97WQ6rNvlbBkYZeA</td>\n",
       "      <td>426</td>\n",
       "    </tr>\n",
       "    <tr>\n",
       "      <th>4</th>\n",
       "      <td>Zabbix agent is unreachable for 5 minutes</td>\n",
       "      <td>SV-CD02</td>\n",
       "      <td>2019-04-13 03:30:45</td>\n",
       "      <td>2019-04-13 03:58:44</td>\n",
       "      <td>1679</td>\n",
       "      <td>Lebes - Geral</td>\n",
       "      <td>Up (1)</td>\n",
       "      <td>gGK07aOLxP5n6Mmn97WQ6rNvlbBkYZeA</td>\n",
       "      <td>428</td>\n",
       "    </tr>\n",
       "  </tbody>\n",
       "</table>\n",
       "</div>"
      ],
      "text/plain": [
       "                                                nome          host  \\\n",
       "0  Rota do Gateway Group: Navegacao_internet foi ...    MTF-mtz-fw   \n",
       "1  High usage of pagefile.sys on MTF-mtz-ad01 : 1...  MTF-mtz-ad01   \n",
       "2  High usage of pagefile.sys on MTF-mtz-ad01 : 1...  MTF-mtz-ad01   \n",
       "3         Zabbix agent is unreachable for 10 minutes       SV-CD02   \n",
       "4          Zabbix agent is unreachable for 5 minutes       SV-CD02   \n",
       "\n",
       "             abertura          fechamento  duracao_s          group itemvalue  \\\n",
       "0 2019-04-13 06:52:43 2019-04-13 06:57:43        300      Metalfema         2   \n",
       "1 2019-04-13 06:44:58 2019-04-13 07:55:04       4206      Metalfema     100 %   \n",
       "2 2019-04-13 05:25:04 2019-04-13 06:44:25       4761      Metalfema     100 %   \n",
       "3 2019-04-13 03:44:47 2019-04-13 03:58:44        837  Lebes - Geral    Up (1)   \n",
       "4 2019-04-13 03:30:45 2019-04-13 03:58:44       1679  Lebes - Geral    Up (1)   \n",
       "\n",
       "                         usc_das_id  name_encoded  \n",
       "0  gGK07aOLxP5n6Mmn97WQ6rNvlbBkYZeA           401  \n",
       "1  gGK07aOLxP5n6Mmn97WQ6rNvlbBkYZeA           273  \n",
       "2  gGK07aOLxP5n6Mmn97WQ6rNvlbBkYZeA           273  \n",
       "3  gGK07aOLxP5n6Mmn97WQ6rNvlbBkYZeA           426  \n",
       "4  gGK07aOLxP5n6Mmn97WQ6rNvlbBkYZeA           428  "
      ]
     },
     "execution_count": 43,
     "metadata": {},
     "output_type": "execute_result"
    }
   ],
   "source": [
    "table.head()"
   ]
  },
  {
   "cell_type": "code",
   "execution_count": 44,
   "metadata": {},
   "outputs": [
    {
     "name": "stderr",
     "output_type": "stream",
     "text": [
      "  3%|▎         | 60/1779 [00:00<00:06, 271.64it/s]"
     ]
    },
    {
     "name": "stdout",
     "output_type": "stream",
     "text": [
      "CPU times: user 0 ns, sys: 0 ns, total: 0 ns\n",
      "Wall time: 11 µs\n"
     ]
    },
    {
     "name": "stderr",
     "output_type": "stream",
     "text": [
      "100%|██████████| 1779/1779 [00:04<00:00, 434.74it/s]\n"
     ]
    }
   ],
   "source": [
    "def get_events_between(table)->dict():\n",
    "    dict_event_between = dict()\n",
    "    for idx in tqdm(table.index):\n",
    "        abertura = table.at[idx,'abertura']\n",
    "        fechamento = table.at[idx,'fechamento']\n",
    "        host = table.at[idx,'host']\n",
    "        name_encoded = table[(table['abertura'] >= abertura) &\n",
    "                             (table['fechamento']<=fechamento) &\n",
    "                             (table['host']==host)].name_encoded.values.tolist()\n",
    "        dict_event_between[idx]={table.at[idx,'name_encoded']:name_encoded, 'host':host}\n",
    "    return dict_event_between\n",
    "%time\n",
    "dict_event_between = get_events_between(table)"
   ]
  },
  {
   "cell_type": "markdown",
   "metadata": {},
   "source": [
    "### Pretendo fazer uma análise de eventos por grupo\n",
    "Objetivo criar sequência temporal de eventos por grupo e verificar se há padrões. Cada sequência pode estar num\n",
    "intervalo de um dia ou 1 mês etc. Verificar se há correlação entre sequências de grupo, pois dessa forma podemos pensar num possível modelo para sequência."
   ]
  },
  {
   "cell_type": "code",
   "execution_count": 48,
   "metadata": {},
   "outputs": [],
   "source": [
    "unique_groups = np.unique(table[['group']].values)"
   ]
  },
  {
   "cell_type": "code",
   "execution_count": 49,
   "metadata": {},
   "outputs": [],
   "source": [
    "day_abert = list(map(lambda x:x.day,table.abertura))\n",
    "hour_abert = list(map(lambda x:x.hour,table.abertura))\n",
    "day_fech = list(map(lambda x:x.day,table.fechamento))\n",
    "hour_fech = list(map(lambda x:x.hour,table.fechamento))"
   ]
  },
  {
   "cell_type": "code",
   "execution_count": 50,
   "metadata": {},
   "outputs": [],
   "source": [
    "table['day_abert'] = day_abert\n",
    "table['hour_abert']= hour_abert\n",
    "\n",
    "table['day_fech'] = day_fech\n",
    "table['hour_fech']= hour_fech"
   ]
  },
  {
   "cell_type": "code",
   "execution_count": 52,
   "metadata": {},
   "outputs": [
    {
     "data": {
      "text/html": [
       "<div>\n",
       "<style scoped>\n",
       "    .dataframe tbody tr th:only-of-type {\n",
       "        vertical-align: middle;\n",
       "    }\n",
       "\n",
       "    .dataframe tbody tr th {\n",
       "        vertical-align: top;\n",
       "    }\n",
       "\n",
       "    .dataframe thead th {\n",
       "        text-align: right;\n",
       "    }\n",
       "</style>\n",
       "<table border=\"1\" class=\"dataframe\">\n",
       "  <thead>\n",
       "    <tr style=\"text-align: right;\">\n",
       "      <th></th>\n",
       "      <th>nome</th>\n",
       "      <th>host</th>\n",
       "      <th>abertura</th>\n",
       "      <th>fechamento</th>\n",
       "      <th>duracao_s</th>\n",
       "      <th>group</th>\n",
       "      <th>itemvalue</th>\n",
       "      <th>usc_das_id</th>\n",
       "      <th>name_encoded</th>\n",
       "      <th>day_abert</th>\n",
       "      <th>hour_abert</th>\n",
       "      <th>day_fech</th>\n",
       "      <th>hour_fech</th>\n",
       "    </tr>\n",
       "  </thead>\n",
       "  <tbody>\n",
       "    <tr>\n",
       "      <th>0</th>\n",
       "      <td>Rota do Gateway Group: Navegacao_internet foi ...</td>\n",
       "      <td>MTF-mtz-fw</td>\n",
       "      <td>2019-04-13 06:52:43</td>\n",
       "      <td>2019-04-13 06:57:43</td>\n",
       "      <td>300</td>\n",
       "      <td>Metalfema</td>\n",
       "      <td>2</td>\n",
       "      <td>gGK07aOLxP5n6Mmn97WQ6rNvlbBkYZeA</td>\n",
       "      <td>401</td>\n",
       "      <td>13</td>\n",
       "      <td>6</td>\n",
       "      <td>13</td>\n",
       "      <td>6</td>\n",
       "    </tr>\n",
       "    <tr>\n",
       "      <th>1</th>\n",
       "      <td>High usage of pagefile.sys on MTF-mtz-ad01 : 1...</td>\n",
       "      <td>MTF-mtz-ad01</td>\n",
       "      <td>2019-04-13 06:44:58</td>\n",
       "      <td>2019-04-13 07:55:04</td>\n",
       "      <td>4206</td>\n",
       "      <td>Metalfema</td>\n",
       "      <td>100 %</td>\n",
       "      <td>gGK07aOLxP5n6Mmn97WQ6rNvlbBkYZeA</td>\n",
       "      <td>273</td>\n",
       "      <td>13</td>\n",
       "      <td>6</td>\n",
       "      <td>13</td>\n",
       "      <td>7</td>\n",
       "    </tr>\n",
       "    <tr>\n",
       "      <th>2</th>\n",
       "      <td>High usage of pagefile.sys on MTF-mtz-ad01 : 1...</td>\n",
       "      <td>MTF-mtz-ad01</td>\n",
       "      <td>2019-04-13 05:25:04</td>\n",
       "      <td>2019-04-13 06:44:25</td>\n",
       "      <td>4761</td>\n",
       "      <td>Metalfema</td>\n",
       "      <td>100 %</td>\n",
       "      <td>gGK07aOLxP5n6Mmn97WQ6rNvlbBkYZeA</td>\n",
       "      <td>273</td>\n",
       "      <td>13</td>\n",
       "      <td>5</td>\n",
       "      <td>13</td>\n",
       "      <td>6</td>\n",
       "    </tr>\n",
       "    <tr>\n",
       "      <th>3</th>\n",
       "      <td>Zabbix agent is unreachable for 10 minutes</td>\n",
       "      <td>SV-CD02</td>\n",
       "      <td>2019-04-13 03:44:47</td>\n",
       "      <td>2019-04-13 03:58:44</td>\n",
       "      <td>837</td>\n",
       "      <td>Lebes - Geral</td>\n",
       "      <td>Up (1)</td>\n",
       "      <td>gGK07aOLxP5n6Mmn97WQ6rNvlbBkYZeA</td>\n",
       "      <td>426</td>\n",
       "      <td>13</td>\n",
       "      <td>3</td>\n",
       "      <td>13</td>\n",
       "      <td>3</td>\n",
       "    </tr>\n",
       "    <tr>\n",
       "      <th>4</th>\n",
       "      <td>Zabbix agent is unreachable for 5 minutes</td>\n",
       "      <td>SV-CD02</td>\n",
       "      <td>2019-04-13 03:30:45</td>\n",
       "      <td>2019-04-13 03:58:44</td>\n",
       "      <td>1679</td>\n",
       "      <td>Lebes - Geral</td>\n",
       "      <td>Up (1)</td>\n",
       "      <td>gGK07aOLxP5n6Mmn97WQ6rNvlbBkYZeA</td>\n",
       "      <td>428</td>\n",
       "      <td>13</td>\n",
       "      <td>3</td>\n",
       "      <td>13</td>\n",
       "      <td>3</td>\n",
       "    </tr>\n",
       "    <tr>\n",
       "      <th>5</th>\n",
       "      <td>Zabbix agent is unreachable for 5 minutes</td>\n",
       "      <td>SV-CD02</td>\n",
       "      <td>2019-04-13 03:21:45</td>\n",
       "      <td>2019-04-13 03:47:43</td>\n",
       "      <td>1558</td>\n",
       "      <td>Lebes - Geral</td>\n",
       "      <td>Up (1)</td>\n",
       "      <td>gGK07aOLxP5n6Mmn97WQ6rNvlbBkYZeA</td>\n",
       "      <td>428</td>\n",
       "      <td>13</td>\n",
       "      <td>3</td>\n",
       "      <td>13</td>\n",
       "      <td>3</td>\n",
       "    </tr>\n",
       "    <tr>\n",
       "      <th>6</th>\n",
       "      <td>Zabbix agent is unreachable for 5 minutes</td>\n",
       "      <td>SV-CD02</td>\n",
       "      <td>2019-04-13 03:10:45</td>\n",
       "      <td>2019-04-13 03:33:44</td>\n",
       "      <td>1379</td>\n",
       "      <td>Lebes - Geral</td>\n",
       "      <td>Up (1)</td>\n",
       "      <td>gGK07aOLxP5n6Mmn97WQ6rNvlbBkYZeA</td>\n",
       "      <td>428</td>\n",
       "      <td>13</td>\n",
       "      <td>3</td>\n",
       "      <td>13</td>\n",
       "      <td>3</td>\n",
       "    </tr>\n",
       "    <tr>\n",
       "      <th>7</th>\n",
       "      <td>Rota do Gateway Group: Navegacao_internet foi ...</td>\n",
       "      <td>MTF-mtz-fw</td>\n",
       "      <td>2019-04-13 02:52:42</td>\n",
       "      <td>2019-04-13 02:57:42</td>\n",
       "      <td>300</td>\n",
       "      <td>Metalfema</td>\n",
       "      <td>1</td>\n",
       "      <td>gGK07aOLxP5n6Mmn97WQ6rNvlbBkYZeA</td>\n",
       "      <td>401</td>\n",
       "      <td>13</td>\n",
       "      <td>2</td>\n",
       "      <td>13</td>\n",
       "      <td>2</td>\n",
       "    </tr>\n",
       "    <tr>\n",
       "      <th>8</th>\n",
       "      <td>High usage of pagefile.sys on MTF-mtz-ad01 : 1...</td>\n",
       "      <td>MTF-mtz-ad01</td>\n",
       "      <td>2019-04-13 02:50:04</td>\n",
       "      <td>2019-04-13 04:40:04</td>\n",
       "      <td>6600</td>\n",
       "      <td>Metalfema</td>\n",
       "      <td>100 %</td>\n",
       "      <td>gGK07aOLxP5n6Mmn97WQ6rNvlbBkYZeA</td>\n",
       "      <td>273</td>\n",
       "      <td>13</td>\n",
       "      <td>2</td>\n",
       "      <td>13</td>\n",
       "      <td>4</td>\n",
       "    </tr>\n",
       "    <tr>\n",
       "      <th>9</th>\n",
       "      <td>High usage of pagefile.sys on MTF-mtz-ad01 : 1...</td>\n",
       "      <td>MTF-mtz-ad01</td>\n",
       "      <td>2019-04-13 02:30:04</td>\n",
       "      <td>2019-04-13 02:35:04</td>\n",
       "      <td>300</td>\n",
       "      <td>Metalfema</td>\n",
       "      <td>100 %</td>\n",
       "      <td>gGK07aOLxP5n6Mmn97WQ6rNvlbBkYZeA</td>\n",
       "      <td>273</td>\n",
       "      <td>13</td>\n",
       "      <td>2</td>\n",
       "      <td>13</td>\n",
       "      <td>2</td>\n",
       "    </tr>\n",
       "    <tr>\n",
       "      <th>10</th>\n",
       "      <td>Porta SSH: PAY-spo-vpn-tivit-greencard inacess...</td>\n",
       "      <td>PAY-smcd60csrv17</td>\n",
       "      <td>2019-04-13 01:56:01</td>\n",
       "      <td>2019-04-13 02:01:01</td>\n",
       "      <td>300</td>\n",
       "      <td>Paysmart</td>\n",
       "      <td>1</td>\n",
       "      <td>gGK07aOLxP5n6Mmn97WQ6rNvlbBkYZeA</td>\n",
       "      <td>395</td>\n",
       "      <td>13</td>\n",
       "      <td>1</td>\n",
       "      <td>13</td>\n",
       "      <td>2</td>\n",
       "    </tr>\n",
       "    <tr>\n",
       "      <th>11</th>\n",
       "      <td>Zabbix agent is unreachable for 10 minutes</td>\n",
       "      <td>SV-NF-TS</td>\n",
       "      <td>2019-04-13 00:24:57</td>\n",
       "      <td>2019-04-13 00:30:52</td>\n",
       "      <td>355</td>\n",
       "      <td>Lebes - Geral</td>\n",
       "      <td>Up (1)</td>\n",
       "      <td>gGK07aOLxP5n6Mmn97WQ6rNvlbBkYZeA</td>\n",
       "      <td>426</td>\n",
       "      <td>13</td>\n",
       "      <td>0</td>\n",
       "      <td>13</td>\n",
       "      <td>0</td>\n",
       "    </tr>\n",
       "    <tr>\n",
       "      <th>12</th>\n",
       "      <td>Zabbix agent is unreachable for 5 minutes</td>\n",
       "      <td>SV-CA-BDC</td>\n",
       "      <td>2019-04-12 19:43:40</td>\n",
       "      <td>2019-04-12 19:44:31</td>\n",
       "      <td>51</td>\n",
       "      <td>Lebes - Geral</td>\n",
       "      <td>Up (1)</td>\n",
       "      <td>gGK07aOLxP5n6Mmn97WQ6rNvlbBkYZeA</td>\n",
       "      <td>428</td>\n",
       "      <td>12</td>\n",
       "      <td>19</td>\n",
       "      <td>12</td>\n",
       "      <td>19</td>\n",
       "    </tr>\n",
       "    <tr>\n",
       "      <th>13</th>\n",
       "      <td>Zabbix agent is unreachable for 5 minutes</td>\n",
       "      <td>SV-CA-BDC</td>\n",
       "      <td>2019-04-12 19:34:40</td>\n",
       "      <td>2019-04-12 19:35:31</td>\n",
       "      <td>51</td>\n",
       "      <td>Lebes - Geral</td>\n",
       "      <td>Up (1)</td>\n",
       "      <td>gGK07aOLxP5n6Mmn97WQ6rNvlbBkYZeA</td>\n",
       "      <td>428</td>\n",
       "      <td>12</td>\n",
       "      <td>19</td>\n",
       "      <td>12</td>\n",
       "      <td>19</td>\n",
       "    </tr>\n",
       "    <tr>\n",
       "      <th>14</th>\n",
       "      <td>Rota do Gateway Group: Navegacao_internet foi ...</td>\n",
       "      <td>MTF-mtz-fw</td>\n",
       "      <td>2019-04-12 19:12:42</td>\n",
       "      <td>2019-04-12 19:17:42</td>\n",
       "      <td>300</td>\n",
       "      <td>Metalfema</td>\n",
       "      <td>2</td>\n",
       "      <td>gGK07aOLxP5n6Mmn97WQ6rNvlbBkYZeA</td>\n",
       "      <td>401</td>\n",
       "      <td>12</td>\n",
       "      <td>19</td>\n",
       "      <td>12</td>\n",
       "      <td>19</td>\n",
       "    </tr>\n",
       "    <tr>\n",
       "      <th>15</th>\n",
       "      <td>Interface GigabitEthernet1/0/15 mudou de veloc...</td>\n",
       "      <td>USC-pri-swadm</td>\n",
       "      <td>2019-04-12 18:33:39</td>\n",
       "      <td>2019-04-12 19:33:39</td>\n",
       "      <td>3600</td>\n",
       "      <td>Unirede</td>\n",
       "      <td>100 Mbps</td>\n",
       "      <td>gGK07aOLxP5n6Mmn97WQ6rNvlbBkYZeA</td>\n",
       "      <td>314</td>\n",
       "      <td>12</td>\n",
       "      <td>18</td>\n",
       "      <td>12</td>\n",
       "      <td>19</td>\n",
       "    </tr>\n",
       "    <tr>\n",
       "      <th>16</th>\n",
       "      <td>Zabbix agent is unreachable for 10 minutes</td>\n",
       "      <td>Host_RDN-wih-prx</td>\n",
       "      <td>2019-04-12 17:17:25</td>\n",
       "      <td>2019-04-12 17:18:25</td>\n",
       "      <td>60</td>\n",
       "      <td>Radan</td>\n",
       "      <td>Up (1)</td>\n",
       "      <td>gGK07aOLxP5n6Mmn97WQ6rNvlbBkYZeA</td>\n",
       "      <td>426</td>\n",
       "      <td>12</td>\n",
       "      <td>17</td>\n",
       "      <td>12</td>\n",
       "      <td>17</td>\n",
       "    </tr>\n",
       "    <tr>\n",
       "      <th>17</th>\n",
       "      <td>Zabbix agent is unreachable for 5 minutes</td>\n",
       "      <td>SV-CA-BDC</td>\n",
       "      <td>2019-04-12 17:16:40</td>\n",
       "      <td>2019-04-12 17:20:31</td>\n",
       "      <td>231</td>\n",
       "      <td>Lebes - Geral</td>\n",
       "      <td>Up (1)</td>\n",
       "      <td>gGK07aOLxP5n6Mmn97WQ6rNvlbBkYZeA</td>\n",
       "      <td>428</td>\n",
       "      <td>12</td>\n",
       "      <td>17</td>\n",
       "      <td>12</td>\n",
       "      <td>17</td>\n",
       "    </tr>\n",
       "    <tr>\n",
       "      <th>18</th>\n",
       "      <td>/etc/passwd was changed on SV-CA-DBR</td>\n",
       "      <td>SV-CA-DBR</td>\n",
       "      <td>2019-04-12 16:46:44</td>\n",
       "      <td>2019-04-12 16:56:44</td>\n",
       "      <td>600</td>\n",
       "      <td>Lebes - Geral</td>\n",
       "      <td>548516740</td>\n",
       "      <td>gGK07aOLxP5n6Mmn97WQ6rNvlbBkYZeA</td>\n",
       "      <td>21</td>\n",
       "      <td>12</td>\n",
       "      <td>16</td>\n",
       "      <td>12</td>\n",
       "      <td>16</td>\n",
       "    </tr>\n",
       "    <tr>\n",
       "      <th>19</th>\n",
       "      <td>Zabbix agent is unreachable for 10 minutes</td>\n",
       "      <td>SV-CA-CS</td>\n",
       "      <td>2019-04-12 16:21:43</td>\n",
       "      <td>2019-04-12 16:22:20</td>\n",
       "      <td>37</td>\n",
       "      <td>Lebes - Geral</td>\n",
       "      <td>Up (1)</td>\n",
       "      <td>gGK07aOLxP5n6Mmn97WQ6rNvlbBkYZeA</td>\n",
       "      <td>426</td>\n",
       "      <td>12</td>\n",
       "      <td>16</td>\n",
       "      <td>12</td>\n",
       "      <td>16</td>\n",
       "    </tr>\n",
       "    <tr>\n",
       "      <th>20</th>\n",
       "      <td>Application Pool Restart</td>\n",
       "      <td>HDO-ARG-ARBAWEBAX001</td>\n",
       "      <td>2019-04-12 15:46:55</td>\n",
       "      <td>2019-04-12 15:51:55</td>\n",
       "      <td>300</td>\n",
       "      <td>Hunter Douglas</td>\n",
       "      <td>3</td>\n",
       "      <td>gGK07aOLxP5n6Mmn97WQ6rNvlbBkYZeA</td>\n",
       "      <td>214</td>\n",
       "      <td>12</td>\n",
       "      <td>15</td>\n",
       "      <td>12</td>\n",
       "      <td>15</td>\n",
       "    </tr>\n",
       "    <tr>\n",
       "      <th>21</th>\n",
       "      <td>/etc/passwd was changed on Host_USC-aws-prx</td>\n",
       "      <td>Host_USC-aws-prx</td>\n",
       "      <td>2019-04-12 15:04:47</td>\n",
       "      <td>2019-04-12 15:14:47</td>\n",
       "      <td>600</td>\n",
       "      <td>Unirede</td>\n",
       "      <td>3694826981</td>\n",
       "      <td>gGK07aOLxP5n6Mmn97WQ6rNvlbBkYZeA</td>\n",
       "      <td>18</td>\n",
       "      <td>12</td>\n",
       "      <td>15</td>\n",
       "      <td>12</td>\n",
       "      <td>15</td>\n",
       "    </tr>\n",
       "    <tr>\n",
       "      <th>22</th>\n",
       "      <td>/etc/passwd was changed on ECO-poa-zbx</td>\n",
       "      <td>ECO-poa-zbx</td>\n",
       "      <td>2019-04-12 15:04:19</td>\n",
       "      <td>2019-04-12 15:14:19</td>\n",
       "      <td>600</td>\n",
       "      <td>Ecore</td>\n",
       "      <td>3694826981</td>\n",
       "      <td>gGK07aOLxP5n6Mmn97WQ6rNvlbBkYZeA</td>\n",
       "      <td>16</td>\n",
       "      <td>12</td>\n",
       "      <td>15</td>\n",
       "      <td>12</td>\n",
       "      <td>15</td>\n",
       "    </tr>\n",
       "    <tr>\n",
       "      <th>23</th>\n",
       "      <td>/etc/passwd was changed on Host_USC-aws-prx</td>\n",
       "      <td>Host_USC-aws-prx</td>\n",
       "      <td>2019-04-12 14:34:47</td>\n",
       "      <td>2019-04-12 14:44:47</td>\n",
       "      <td>600</td>\n",
       "      <td>Unirede</td>\n",
       "      <td>985668553</td>\n",
       "      <td>gGK07aOLxP5n6Mmn97WQ6rNvlbBkYZeA</td>\n",
       "      <td>18</td>\n",
       "      <td>12</td>\n",
       "      <td>14</td>\n",
       "      <td>12</td>\n",
       "      <td>14</td>\n",
       "    </tr>\n",
       "    <tr>\n",
       "      <th>24</th>\n",
       "      <td>/etc/passwd was changed on ECO-poa-zbx</td>\n",
       "      <td>ECO-poa-zbx</td>\n",
       "      <td>2019-04-12 14:34:19</td>\n",
       "      <td>2019-04-12 14:44:19</td>\n",
       "      <td>600</td>\n",
       "      <td>Ecore</td>\n",
       "      <td>985668553</td>\n",
       "      <td>gGK07aOLxP5n6Mmn97WQ6rNvlbBkYZeA</td>\n",
       "      <td>16</td>\n",
       "      <td>12</td>\n",
       "      <td>14</td>\n",
       "      <td>12</td>\n",
       "      <td>14</td>\n",
       "    </tr>\n",
       "    <tr>\n",
       "      <th>25</th>\n",
       "      <td>Interface FastEthernet0/1 mudou de velocidade</td>\n",
       "      <td>USC-pri-swcore</td>\n",
       "      <td>2019-04-12 14:33:38</td>\n",
       "      <td>2019-04-12 14:42:00</td>\n",
       "      <td>502</td>\n",
       "      <td>Unirede</td>\n",
       "      <td>100 Mbps</td>\n",
       "      <td>gGK07aOLxP5n6Mmn97WQ6rNvlbBkYZeA</td>\n",
       "      <td>303</td>\n",
       "      <td>12</td>\n",
       "      <td>14</td>\n",
       "      <td>12</td>\n",
       "      <td>14</td>\n",
       "    </tr>\n",
       "    <tr>\n",
       "      <th>26</th>\n",
       "      <td>Interface FastEthernet0/30 mudou de velocidade</td>\n",
       "      <td>USC-pri-swcore</td>\n",
       "      <td>2019-04-12 14:33:38</td>\n",
       "      <td>2019-04-12 14:42:00</td>\n",
       "      <td>502</td>\n",
       "      <td>Unirede</td>\n",
       "      <td>100 Mbps</td>\n",
       "      <td>gGK07aOLxP5n6Mmn97WQ6rNvlbBkYZeA</td>\n",
       "      <td>306</td>\n",
       "      <td>12</td>\n",
       "      <td>14</td>\n",
       "      <td>12</td>\n",
       "      <td>14</td>\n",
       "    </tr>\n",
       "    <tr>\n",
       "      <th>27</th>\n",
       "      <td>Interface FastEthernet0/23 mudou de velocidade</td>\n",
       "      <td>USC-pri-swcore</td>\n",
       "      <td>2019-04-12 14:33:38</td>\n",
       "      <td>2019-04-12 14:42:00</td>\n",
       "      <td>502</td>\n",
       "      <td>Unirede</td>\n",
       "      <td>100 Mbps</td>\n",
       "      <td>gGK07aOLxP5n6Mmn97WQ6rNvlbBkYZeA</td>\n",
       "      <td>304</td>\n",
       "      <td>12</td>\n",
       "      <td>14</td>\n",
       "      <td>12</td>\n",
       "      <td>14</td>\n",
       "    </tr>\n",
       "    <tr>\n",
       "      <th>28</th>\n",
       "      <td>Interface FastEthernet0/44 mudou de velocidade</td>\n",
       "      <td>USC-pri-swcore</td>\n",
       "      <td>2019-04-12 13:33:37</td>\n",
       "      <td>2019-04-12 20:14:00</td>\n",
       "      <td>24023</td>\n",
       "      <td>Unirede</td>\n",
       "      <td>10 Mbps</td>\n",
       "      <td>gGK07aOLxP5n6Mmn97WQ6rNvlbBkYZeA</td>\n",
       "      <td>312</td>\n",
       "      <td>12</td>\n",
       "      <td>13</td>\n",
       "      <td>12</td>\n",
       "      <td>20</td>\n",
       "    </tr>\n",
       "    <tr>\n",
       "      <th>29</th>\n",
       "      <td>Perda de pacotes em router126 maior que 30 %</td>\n",
       "      <td>LBS-f126-router</td>\n",
       "      <td>2019-04-12 13:04:04</td>\n",
       "      <td>2019-04-12 13:05:04</td>\n",
       "      <td>60</td>\n",
       "      <td>Lebes - Filiais</td>\n",
       "      <td>0 %</td>\n",
       "      <td>gGK07aOLxP5n6Mmn97WQ6rNvlbBkYZeA</td>\n",
       "      <td>385</td>\n",
       "      <td>12</td>\n",
       "      <td>13</td>\n",
       "      <td>12</td>\n",
       "      <td>13</td>\n",
       "    </tr>\n",
       "  </tbody>\n",
       "</table>\n",
       "</div>"
      ],
      "text/plain": [
       "                                                 nome                  host  \\\n",
       "0   Rota do Gateway Group: Navegacao_internet foi ...            MTF-mtz-fw   \n",
       "1   High usage of pagefile.sys on MTF-mtz-ad01 : 1...          MTF-mtz-ad01   \n",
       "2   High usage of pagefile.sys on MTF-mtz-ad01 : 1...          MTF-mtz-ad01   \n",
       "3          Zabbix agent is unreachable for 10 minutes               SV-CD02   \n",
       "4           Zabbix agent is unreachable for 5 minutes               SV-CD02   \n",
       "5           Zabbix agent is unreachable for 5 minutes               SV-CD02   \n",
       "6           Zabbix agent is unreachable for 5 minutes               SV-CD02   \n",
       "7   Rota do Gateway Group: Navegacao_internet foi ...            MTF-mtz-fw   \n",
       "8   High usage of pagefile.sys on MTF-mtz-ad01 : 1...          MTF-mtz-ad01   \n",
       "9   High usage of pagefile.sys on MTF-mtz-ad01 : 1...          MTF-mtz-ad01   \n",
       "10  Porta SSH: PAY-spo-vpn-tivit-greencard inacess...      PAY-smcd60csrv17   \n",
       "11         Zabbix agent is unreachable for 10 minutes              SV-NF-TS   \n",
       "12          Zabbix agent is unreachable for 5 minutes             SV-CA-BDC   \n",
       "13          Zabbix agent is unreachable for 5 minutes             SV-CA-BDC   \n",
       "14  Rota do Gateway Group: Navegacao_internet foi ...            MTF-mtz-fw   \n",
       "15  Interface GigabitEthernet1/0/15 mudou de veloc...         USC-pri-swadm   \n",
       "16         Zabbix agent is unreachable for 10 minutes      Host_RDN-wih-prx   \n",
       "17          Zabbix agent is unreachable for 5 minutes             SV-CA-BDC   \n",
       "18               /etc/passwd was changed on SV-CA-DBR             SV-CA-DBR   \n",
       "19         Zabbix agent is unreachable for 10 minutes              SV-CA-CS   \n",
       "20                           Application Pool Restart  HDO-ARG-ARBAWEBAX001   \n",
       "21        /etc/passwd was changed on Host_USC-aws-prx      Host_USC-aws-prx   \n",
       "22             /etc/passwd was changed on ECO-poa-zbx           ECO-poa-zbx   \n",
       "23        /etc/passwd was changed on Host_USC-aws-prx      Host_USC-aws-prx   \n",
       "24             /etc/passwd was changed on ECO-poa-zbx           ECO-poa-zbx   \n",
       "25      Interface FastEthernet0/1 mudou de velocidade        USC-pri-swcore   \n",
       "26     Interface FastEthernet0/30 mudou de velocidade        USC-pri-swcore   \n",
       "27     Interface FastEthernet0/23 mudou de velocidade        USC-pri-swcore   \n",
       "28     Interface FastEthernet0/44 mudou de velocidade        USC-pri-swcore   \n",
       "29       Perda de pacotes em router126 maior que 30 %       LBS-f126-router   \n",
       "\n",
       "              abertura          fechamento  duracao_s            group  \\\n",
       "0  2019-04-13 06:52:43 2019-04-13 06:57:43        300        Metalfema   \n",
       "1  2019-04-13 06:44:58 2019-04-13 07:55:04       4206        Metalfema   \n",
       "2  2019-04-13 05:25:04 2019-04-13 06:44:25       4761        Metalfema   \n",
       "3  2019-04-13 03:44:47 2019-04-13 03:58:44        837    Lebes - Geral   \n",
       "4  2019-04-13 03:30:45 2019-04-13 03:58:44       1679    Lebes - Geral   \n",
       "5  2019-04-13 03:21:45 2019-04-13 03:47:43       1558    Lebes - Geral   \n",
       "6  2019-04-13 03:10:45 2019-04-13 03:33:44       1379    Lebes - Geral   \n",
       "7  2019-04-13 02:52:42 2019-04-13 02:57:42        300        Metalfema   \n",
       "8  2019-04-13 02:50:04 2019-04-13 04:40:04       6600        Metalfema   \n",
       "9  2019-04-13 02:30:04 2019-04-13 02:35:04        300        Metalfema   \n",
       "10 2019-04-13 01:56:01 2019-04-13 02:01:01        300         Paysmart   \n",
       "11 2019-04-13 00:24:57 2019-04-13 00:30:52        355    Lebes - Geral   \n",
       "12 2019-04-12 19:43:40 2019-04-12 19:44:31         51    Lebes - Geral   \n",
       "13 2019-04-12 19:34:40 2019-04-12 19:35:31         51    Lebes - Geral   \n",
       "14 2019-04-12 19:12:42 2019-04-12 19:17:42        300        Metalfema   \n",
       "15 2019-04-12 18:33:39 2019-04-12 19:33:39       3600          Unirede   \n",
       "16 2019-04-12 17:17:25 2019-04-12 17:18:25         60            Radan   \n",
       "17 2019-04-12 17:16:40 2019-04-12 17:20:31        231    Lebes - Geral   \n",
       "18 2019-04-12 16:46:44 2019-04-12 16:56:44        600    Lebes - Geral   \n",
       "19 2019-04-12 16:21:43 2019-04-12 16:22:20         37    Lebes - Geral   \n",
       "20 2019-04-12 15:46:55 2019-04-12 15:51:55        300   Hunter Douglas   \n",
       "21 2019-04-12 15:04:47 2019-04-12 15:14:47        600          Unirede   \n",
       "22 2019-04-12 15:04:19 2019-04-12 15:14:19        600            Ecore   \n",
       "23 2019-04-12 14:34:47 2019-04-12 14:44:47        600          Unirede   \n",
       "24 2019-04-12 14:34:19 2019-04-12 14:44:19        600            Ecore   \n",
       "25 2019-04-12 14:33:38 2019-04-12 14:42:00        502          Unirede   \n",
       "26 2019-04-12 14:33:38 2019-04-12 14:42:00        502          Unirede   \n",
       "27 2019-04-12 14:33:38 2019-04-12 14:42:00        502          Unirede   \n",
       "28 2019-04-12 13:33:37 2019-04-12 20:14:00      24023          Unirede   \n",
       "29 2019-04-12 13:04:04 2019-04-12 13:05:04         60  Lebes - Filiais   \n",
       "\n",
       "     itemvalue                        usc_das_id  name_encoded  day_abert  \\\n",
       "0            2  gGK07aOLxP5n6Mmn97WQ6rNvlbBkYZeA           401         13   \n",
       "1        100 %  gGK07aOLxP5n6Mmn97WQ6rNvlbBkYZeA           273         13   \n",
       "2        100 %  gGK07aOLxP5n6Mmn97WQ6rNvlbBkYZeA           273         13   \n",
       "3       Up (1)  gGK07aOLxP5n6Mmn97WQ6rNvlbBkYZeA           426         13   \n",
       "4       Up (1)  gGK07aOLxP5n6Mmn97WQ6rNvlbBkYZeA           428         13   \n",
       "5       Up (1)  gGK07aOLxP5n6Mmn97WQ6rNvlbBkYZeA           428         13   \n",
       "6       Up (1)  gGK07aOLxP5n6Mmn97WQ6rNvlbBkYZeA           428         13   \n",
       "7            1  gGK07aOLxP5n6Mmn97WQ6rNvlbBkYZeA           401         13   \n",
       "8        100 %  gGK07aOLxP5n6Mmn97WQ6rNvlbBkYZeA           273         13   \n",
       "9        100 %  gGK07aOLxP5n6Mmn97WQ6rNvlbBkYZeA           273         13   \n",
       "10           1  gGK07aOLxP5n6Mmn97WQ6rNvlbBkYZeA           395         13   \n",
       "11      Up (1)  gGK07aOLxP5n6Mmn97WQ6rNvlbBkYZeA           426         13   \n",
       "12      Up (1)  gGK07aOLxP5n6Mmn97WQ6rNvlbBkYZeA           428         12   \n",
       "13      Up (1)  gGK07aOLxP5n6Mmn97WQ6rNvlbBkYZeA           428         12   \n",
       "14           2  gGK07aOLxP5n6Mmn97WQ6rNvlbBkYZeA           401         12   \n",
       "15    100 Mbps  gGK07aOLxP5n6Mmn97WQ6rNvlbBkYZeA           314         12   \n",
       "16      Up (1)  gGK07aOLxP5n6Mmn97WQ6rNvlbBkYZeA           426         12   \n",
       "17      Up (1)  gGK07aOLxP5n6Mmn97WQ6rNvlbBkYZeA           428         12   \n",
       "18   548516740  gGK07aOLxP5n6Mmn97WQ6rNvlbBkYZeA            21         12   \n",
       "19      Up (1)  gGK07aOLxP5n6Mmn97WQ6rNvlbBkYZeA           426         12   \n",
       "20           3  gGK07aOLxP5n6Mmn97WQ6rNvlbBkYZeA           214         12   \n",
       "21  3694826981  gGK07aOLxP5n6Mmn97WQ6rNvlbBkYZeA            18         12   \n",
       "22  3694826981  gGK07aOLxP5n6Mmn97WQ6rNvlbBkYZeA            16         12   \n",
       "23   985668553  gGK07aOLxP5n6Mmn97WQ6rNvlbBkYZeA            18         12   \n",
       "24   985668553  gGK07aOLxP5n6Mmn97WQ6rNvlbBkYZeA            16         12   \n",
       "25    100 Mbps  gGK07aOLxP5n6Mmn97WQ6rNvlbBkYZeA           303         12   \n",
       "26    100 Mbps  gGK07aOLxP5n6Mmn97WQ6rNvlbBkYZeA           306         12   \n",
       "27    100 Mbps  gGK07aOLxP5n6Mmn97WQ6rNvlbBkYZeA           304         12   \n",
       "28     10 Mbps  gGK07aOLxP5n6Mmn97WQ6rNvlbBkYZeA           312         12   \n",
       "29         0 %  gGK07aOLxP5n6Mmn97WQ6rNvlbBkYZeA           385         12   \n",
       "\n",
       "    hour_abert  day_fech  hour_fech  \n",
       "0            6        13          6  \n",
       "1            6        13          7  \n",
       "2            5        13          6  \n",
       "3            3        13          3  \n",
       "4            3        13          3  \n",
       "5            3        13          3  \n",
       "6            3        13          3  \n",
       "7            2        13          2  \n",
       "8            2        13          4  \n",
       "9            2        13          2  \n",
       "10           1        13          2  \n",
       "11           0        13          0  \n",
       "12          19        12         19  \n",
       "13          19        12         19  \n",
       "14          19        12         19  \n",
       "15          18        12         19  \n",
       "16          17        12         17  \n",
       "17          17        12         17  \n",
       "18          16        12         16  \n",
       "19          16        12         16  \n",
       "20          15        12         15  \n",
       "21          15        12         15  \n",
       "22          15        12         15  \n",
       "23          14        12         14  \n",
       "24          14        12         14  \n",
       "25          14        12         14  \n",
       "26          14        12         14  \n",
       "27          14        12         14  \n",
       "28          13        12         20  \n",
       "29          13        12         13  "
      ]
     },
     "execution_count": 52,
     "metadata": {},
     "output_type": "execute_result"
    }
   ],
   "source": [
    "table.iloc[:30]"
   ]
  },
  {
   "cell_type": "markdown",
   "metadata": {},
   "source": [
    "### Podemos analisar a diferença entre os atributos para cada host"
   ]
  },
  {
   "cell_type": "code",
   "execution_count": 59,
   "metadata": {},
   "outputs": [
    {
     "data": {
      "text/html": [
       "<div>\n",
       "<style scoped>\n",
       "    .dataframe tbody tr th:only-of-type {\n",
       "        vertical-align: middle;\n",
       "    }\n",
       "\n",
       "    .dataframe tbody tr th {\n",
       "        vertical-align: top;\n",
       "    }\n",
       "\n",
       "    .dataframe thead th {\n",
       "        text-align: right;\n",
       "    }\n",
       "</style>\n",
       "<table border=\"1\" class=\"dataframe\">\n",
       "  <thead>\n",
       "    <tr style=\"text-align: right;\">\n",
       "      <th></th>\n",
       "      <th>Asun</th>\n",
       "      <th>Sgnet</th>\n",
       "    </tr>\n",
       "  </thead>\n",
       "  <tbody>\n",
       "    <tr>\n",
       "      <th>0</th>\n",
       "      <td>3600</td>\n",
       "      <td>21</td>\n",
       "    </tr>\n",
       "    <tr>\n",
       "      <th>1</th>\n",
       "      <td>600</td>\n",
       "      <td>21</td>\n",
       "    </tr>\n",
       "    <tr>\n",
       "      <th>2</th>\n",
       "      <td>600</td>\n",
       "      <td>21</td>\n",
       "    </tr>\n",
       "    <tr>\n",
       "      <th>3</th>\n",
       "      <td>502</td>\n",
       "      <td>21</td>\n",
       "    </tr>\n",
       "    <tr>\n",
       "      <th>4</th>\n",
       "      <td>502</td>\n",
       "      <td>321</td>\n",
       "    </tr>\n",
       "    <tr>\n",
       "      <th>5</th>\n",
       "      <td>502</td>\n",
       "      <td>321</td>\n",
       "    </tr>\n",
       "    <tr>\n",
       "      <th>6</th>\n",
       "      <td>24023</td>\n",
       "      <td>321</td>\n",
       "    </tr>\n",
       "    <tr>\n",
       "      <th>7</th>\n",
       "      <td>61</td>\n",
       "      <td>321</td>\n",
       "    </tr>\n",
       "    <tr>\n",
       "      <th>8</th>\n",
       "      <td>5694</td>\n",
       "      <td>321</td>\n",
       "    </tr>\n",
       "    <tr>\n",
       "      <th>9</th>\n",
       "      <td>6114</td>\n",
       "      <td>321</td>\n",
       "    </tr>\n",
       "  </tbody>\n",
       "</table>\n",
       "</div>"
      ],
      "text/plain": [
       "    Asun  Sgnet\n",
       "0   3600     21\n",
       "1    600     21\n",
       "2    600     21\n",
       "3    502     21\n",
       "4    502    321\n",
       "5    502    321\n",
       "6  24023    321\n",
       "7     61    321\n",
       "8   5694    321\n",
       "9   6114    321"
      ]
     },
     "execution_count": 59,
     "metadata": {},
     "output_type": "execute_result"
    }
   ],
   "source": [
    "sub_table = pd.DataFrame({unique_groups[0]:table[table['group']==unique_groups[23]].duracao_s.iloc[:10].values})\n",
    "sub_table[unique_groups[22]]=table[table['group']==unique_groups[22]].duracao_s.iloc[:10].values\n",
    "sub_table"
   ]
  },
  {
   "cell_type": "code",
   "execution_count": 60,
   "metadata": {},
   "outputs": [
    {
     "data": {
      "text/plain": [
       "<matplotlib.axes._subplots.AxesSubplot at 0x7f3e4f8d73c8>"
      ]
     },
     "execution_count": 60,
     "metadata": {},
     "output_type": "execute_result"
    },
    {
     "data": {
      "image/png": "[encoded data removed]",
      "text/plain": [
       "<Figure size 2160x720 with 1 Axes>"
      ]
     },
     "metadata": {
      "needs_background": "light"
     },
     "output_type": "display_data"
    }
   ],
   "source": [
    "sub_table.plot.density()"
   ]
  },
  {
   "cell_type": "markdown",
   "metadata": {},
   "source": [
    "### Criando sequências de eventos por group\n",
    "\n",
    "A sequência pode ser usada para dar entrada no modelo. Temos muito pouco atributos, derivei 4 atributos, mas mesmo\n",
    "assim dois são redundantes. Além disso, o tamanho das sequências são pequenas, há casos em que "
   ]
  },
  {
   "cell_type": "code",
   "execution_count": 116,
   "metadata": {},
   "outputs": [
    {
     "name": "stderr",
     "output_type": "stream",
     "text": [
      "100%|██████████| 28/28 [00:00<00:00, 407.06it/s]\n"
     ]
    }
   ],
   "source": [
    "def get_sequence_by_group(table)->tuple():\n",
    "    sequence_by_group = dict()\n",
    "    frequency = dict()\n",
    "    for group, item in tqdm(table.groupby('group')):\n",
    "        sub_table = table[table['group']==group]\n",
    "        sequence_by_group[group]=sub_table[['duracao_s','day_abert','hour_abert','day_fech','hour_fech','name_encoded']].values\n",
    "        frequency[group]=len(sub_table)\n",
    "    return sequence_by_host,frequency\n",
    "sequence_by_group,frequency = get_sequence_by_group(table)\n"
   ]
  },
  {
   "cell_type": "code",
   "execution_count": 118,
   "metadata": {},
   "outputs": [],
   "source": [
    "np.save('sequence_by_group.npy',sequence_by_group)"
   ]
  },
  {
   "cell_type": "code",
   "execution_count": null,
   "metadata": {},
   "outputs": [],
   "source": []
  }
 ],
 "metadata": {
  "kernelspec": {
   "display_name": "Python 3",
   "language": "python",
   "name": "python3"
  },
  "language_info": {
   "codemirror_mode": {
    "name": "ipython",
    "version": 3
   },
   "file_extension": ".py",
   "mimetype": "text/x-python",
   "name": "python",
   "nbconvert_exporter": "python",
   "pygments_lexer": "ipython3",
   "version": "3.6.8"
  }
 },
 "nbformat": 4,
 "nbformat_minor": 2
}
