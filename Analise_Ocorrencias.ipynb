{
 "cells": [
  {
   "cell_type": "code",
   "execution_count": 1,
   "metadata": {},
   "outputs": [],
   "source": [
    "%matplotlib inline\n",
    "import pandas as pd\n",
    "import numpy as np\n",
    "import seaborn as sns\n",
    "import ast\n",
    "from tqdm import tqdm\n",
    "from sklearn.preprocessing import LabelEncoder\n",
    "sns.set()\n",
    "\n",
    "from pyathena import connect"
   ]
  },
  {
   "cell_type": "code",
   "execution_count": 2,
   "metadata": {},
   "outputs": [],
   "source": [
    "conn = connect(s3_staging_dir='s3://aws-athena-query-results-415718651610-us-east-1', region_name='us-east-1')\n",
    "df = pd.read_sql(\"SELECT * FROM das.ocorrencias limit 50000\", conn)"
   ]
  },
  {
   "cell_type": "code",
   "execution_count": 3,
   "metadata": {},
   "outputs": [
    {
     "data": {
      "text/html": [
       "<div>\n",
       "<style scoped>\n",
       "    .dataframe tbody tr th:only-of-type {\n",
       "        vertical-align: middle;\n",
       "    }\n",
       "\n",
       "    .dataframe tbody tr th {\n",
       "        vertical-align: top;\n",
       "    }\n",
       "\n",
       "    .dataframe thead th {\n",
       "        text-align: right;\n",
       "    }\n",
       "</style>\n",
       "<table border=\"1\" class=\"dataframe\">\n",
       "  <thead>\n",
       "    <tr style=\"text-align: right;\">\n",
       "      <th></th>\n",
       "      <th>duracao_s</th>\n",
       "    </tr>\n",
       "  </thead>\n",
       "  <tbody>\n",
       "    <tr>\n",
       "      <th>count</th>\n",
       "      <td>32202.000000</td>\n",
       "    </tr>\n",
       "    <tr>\n",
       "      <th>mean</th>\n",
       "      <td>6685.565555</td>\n",
       "    </tr>\n",
       "    <tr>\n",
       "      <th>std</th>\n",
       "      <td>29434.444471</td>\n",
       "    </tr>\n",
       "    <tr>\n",
       "      <th>min</th>\n",
       "      <td>0.000000</td>\n",
       "    </tr>\n",
       "    <tr>\n",
       "      <th>25%</th>\n",
       "      <td>120.000000</td>\n",
       "    </tr>\n",
       "    <tr>\n",
       "      <th>50%</th>\n",
       "      <td>300.000000</td>\n",
       "    </tr>\n",
       "    <tr>\n",
       "      <th>75%</th>\n",
       "      <td>1066.750000</td>\n",
       "    </tr>\n",
       "    <tr>\n",
       "      <th>max</th>\n",
       "      <td>643800.000000</td>\n",
       "    </tr>\n",
       "  </tbody>\n",
       "</table>\n",
       "</div>"
      ],
      "text/plain": [
       "           duracao_s\n",
       "count   32202.000000\n",
       "mean     6685.565555\n",
       "std     29434.444471\n",
       "min         0.000000\n",
       "25%       120.000000\n",
       "50%       300.000000\n",
       "75%      1066.750000\n",
       "max    643800.000000"
      ]
     },
     "execution_count": 3,
     "metadata": {},
     "output_type": "execute_result"
    }
   ],
   "source": [
    "df.describe()"
   ]
  },
  {
   "cell_type": "code",
   "execution_count": 4,
   "metadata": {},
   "outputs": [
    {
     "data": {
      "text/html": [
       "<div>\n",
       "<style scoped>\n",
       "    .dataframe tbody tr th:only-of-type {\n",
       "        vertical-align: middle;\n",
       "    }\n",
       "\n",
       "    .dataframe tbody tr th {\n",
       "        vertical-align: top;\n",
       "    }\n",
       "\n",
       "    .dataframe thead th {\n",
       "        text-align: right;\n",
       "    }\n",
       "</style>\n",
       "<table border=\"1\" class=\"dataframe\">\n",
       "  <thead>\n",
       "    <tr style=\"text-align: right;\">\n",
       "      <th></th>\n",
       "      <th>nome</th>\n",
       "      <th>host</th>\n",
       "      <th>abertura</th>\n",
       "      <th>fechamento</th>\n",
       "      <th>duracao_s</th>\n",
       "    </tr>\n",
       "  </thead>\n",
       "  <tbody>\n",
       "    <tr>\n",
       "      <th>0</th>\n",
       "      <td>Chove em João Pessoa Joao Pessoa</td>\n",
       "      <td>Joao Pessoa</td>\n",
       "      <td>2019-03-26 14:43:59</td>\n",
       "      <td>2019-03-26 14:58:59</td>\n",
       "      <td>900</td>\n",
       "    </tr>\n",
       "    <tr>\n",
       "      <th>1</th>\n",
       "      <td>Chove em João Pessoa Joao Pessoa</td>\n",
       "      <td>Joao Pessoa</td>\n",
       "      <td>2019-03-26 14:43:59</td>\n",
       "      <td>2019-03-26 14:58:59</td>\n",
       "      <td>900</td>\n",
       "    </tr>\n",
       "    <tr>\n",
       "      <th>2</th>\n",
       "      <td>Chove em João Pessoa Joao Pessoa</td>\n",
       "      <td>Joao Pessoa</td>\n",
       "      <td>2019-03-26 14:43:59</td>\n",
       "      <td>2019-03-26 14:58:59</td>\n",
       "      <td>900</td>\n",
       "    </tr>\n",
       "    <tr>\n",
       "      <th>3</th>\n",
       "      <td>Chove em João Pessoa Joao Pessoa</td>\n",
       "      <td>Joao Pessoa</td>\n",
       "      <td>2019-03-26 14:43:59</td>\n",
       "      <td>2019-03-26 14:58:59</td>\n",
       "      <td>900</td>\n",
       "    </tr>\n",
       "    <tr>\n",
       "      <th>4</th>\n",
       "      <td>Utilização de Download no link INTEGRA_VIVO ac...</td>\n",
       "      <td>INT-poa-fw</td>\n",
       "      <td>2019-03-29 16:05:05</td>\n",
       "      <td>2019-03-29 16:06:04</td>\n",
       "      <td>59</td>\n",
       "    </tr>\n",
       "  </tbody>\n",
       "</table>\n",
       "</div>"
      ],
      "text/plain": [
       "                                                nome         host  \\\n",
       "0                   Chove em João Pessoa Joao Pessoa  Joao Pessoa   \n",
       "1                   Chove em João Pessoa Joao Pessoa  Joao Pessoa   \n",
       "2                   Chove em João Pessoa Joao Pessoa  Joao Pessoa   \n",
       "3                   Chove em João Pessoa Joao Pessoa  Joao Pessoa   \n",
       "4  Utilização de Download no link INTEGRA_VIVO ac...   INT-poa-fw   \n",
       "\n",
       "             abertura          fechamento  duracao_s  \n",
       "0 2019-03-26 14:43:59 2019-03-26 14:58:59        900  \n",
       "1 2019-03-26 14:43:59 2019-03-26 14:58:59        900  \n",
       "2 2019-03-26 14:43:59 2019-03-26 14:58:59        900  \n",
       "3 2019-03-26 14:43:59 2019-03-26 14:58:59        900  \n",
       "4 2019-03-29 16:05:05 2019-03-29 16:06:04         59  "
      ]
     },
     "execution_count": 4,
     "metadata": {},
     "output_type": "execute_result"
    }
   ],
   "source": [
    "df.head()"
   ]
  },
  {
   "cell_type": "code",
   "execution_count": 5,
   "metadata": {},
   "outputs": [],
   "source": [
    "df.dropna(inplace=True)"
   ]
  },
  {
   "cell_type": "code",
   "execution_count": 6,
   "metadata": {},
   "outputs": [],
   "source": [
    "table = pd.DataFrame(df)"
   ]
  },
  {
   "cell_type": "code",
   "execution_count": 7,
   "metadata": {},
   "outputs": [
    {
     "data": {
      "text/plain": [
       "array(['% used CPU is overloaded : 80.77 % (warn)',\n",
       "       '% used CPU is overloaded : 82.51 % (warn)',\n",
       "       '% used CPU is overloaded : 82.64 % (warn)', ...,\n",
       "       'salt-minion não está executando',\n",
       "       'sv-ca-spy has just been restarted',\n",
       "       '{$TIPO3}: PAY-spo-imaxis-vpn inacessível a partir do servidor PAY-smcd60csrv15'],\n",
       "      dtype=object)"
      ]
     },
     "execution_count": 7,
     "metadata": {},
     "output_type": "execute_result"
    }
   ],
   "source": [
    "np.unique(table.nome.values)"
   ]
  },
  {
   "cell_type": "code",
   "execution_count": 8,
   "metadata": {},
   "outputs": [],
   "source": [
    "lbe = LabelEncoder()\n",
    "table['name_encoded'] = lbe.fit_transform(table.nome.values)"
   ]
  },
  {
   "cell_type": "code",
   "execution_count": 9,
   "metadata": {},
   "outputs": [
    {
     "data": {
      "text/html": [
       "<div>\n",
       "<style scoped>\n",
       "    .dataframe tbody tr th:only-of-type {\n",
       "        vertical-align: middle;\n",
       "    }\n",
       "\n",
       "    .dataframe tbody tr th {\n",
       "        vertical-align: top;\n",
       "    }\n",
       "\n",
       "    .dataframe thead th {\n",
       "        text-align: right;\n",
       "    }\n",
       "</style>\n",
       "<table border=\"1\" class=\"dataframe\">\n",
       "  <thead>\n",
       "    <tr style=\"text-align: right;\">\n",
       "      <th></th>\n",
       "      <th>nome</th>\n",
       "      <th>host</th>\n",
       "      <th>abertura</th>\n",
       "      <th>fechamento</th>\n",
       "      <th>duracao_s</th>\n",
       "      <th>name_encoded</th>\n",
       "    </tr>\n",
       "  </thead>\n",
       "  <tbody>\n",
       "    <tr>\n",
       "      <th>0</th>\n",
       "      <td>Chove em João Pessoa Joao Pessoa</td>\n",
       "      <td>Joao Pessoa</td>\n",
       "      <td>2019-03-26 14:43:59</td>\n",
       "      <td>2019-03-26 14:58:59</td>\n",
       "      <td>900</td>\n",
       "      <td>824</td>\n",
       "    </tr>\n",
       "    <tr>\n",
       "      <th>1</th>\n",
       "      <td>Chove em João Pessoa Joao Pessoa</td>\n",
       "      <td>Joao Pessoa</td>\n",
       "      <td>2019-03-26 14:43:59</td>\n",
       "      <td>2019-03-26 14:58:59</td>\n",
       "      <td>900</td>\n",
       "      <td>824</td>\n",
       "    </tr>\n",
       "    <tr>\n",
       "      <th>2</th>\n",
       "      <td>Chove em João Pessoa Joao Pessoa</td>\n",
       "      <td>Joao Pessoa</td>\n",
       "      <td>2019-03-26 14:43:59</td>\n",
       "      <td>2019-03-26 14:58:59</td>\n",
       "      <td>900</td>\n",
       "      <td>824</td>\n",
       "    </tr>\n",
       "    <tr>\n",
       "      <th>3</th>\n",
       "      <td>Chove em João Pessoa Joao Pessoa</td>\n",
       "      <td>Joao Pessoa</td>\n",
       "      <td>2019-03-26 14:43:59</td>\n",
       "      <td>2019-03-26 14:58:59</td>\n",
       "      <td>900</td>\n",
       "      <td>824</td>\n",
       "    </tr>\n",
       "    <tr>\n",
       "      <th>4</th>\n",
       "      <td>Utilização de Download no link INTEGRA_VIVO ac...</td>\n",
       "      <td>INT-poa-fw</td>\n",
       "      <td>2019-03-29 16:05:05</td>\n",
       "      <td>2019-03-29 16:06:04</td>\n",
       "      <td>59</td>\n",
       "      <td>5936</td>\n",
       "    </tr>\n",
       "  </tbody>\n",
       "</table>\n",
       "</div>"
      ],
      "text/plain": [
       "                                                nome         host  \\\n",
       "0                   Chove em João Pessoa Joao Pessoa  Joao Pessoa   \n",
       "1                   Chove em João Pessoa Joao Pessoa  Joao Pessoa   \n",
       "2                   Chove em João Pessoa Joao Pessoa  Joao Pessoa   \n",
       "3                   Chove em João Pessoa Joao Pessoa  Joao Pessoa   \n",
       "4  Utilização de Download no link INTEGRA_VIVO ac...   INT-poa-fw   \n",
       "\n",
       "             abertura          fechamento  duracao_s  name_encoded  \n",
       "0 2019-03-26 14:43:59 2019-03-26 14:58:59        900           824  \n",
       "1 2019-03-26 14:43:59 2019-03-26 14:58:59        900           824  \n",
       "2 2019-03-26 14:43:59 2019-03-26 14:58:59        900           824  \n",
       "3 2019-03-26 14:43:59 2019-03-26 14:58:59        900           824  \n",
       "4 2019-03-29 16:05:05 2019-03-29 16:06:04         59          5936  "
      ]
     },
     "execution_count": 9,
     "metadata": {},
     "output_type": "execute_result"
    }
   ],
   "source": [
    "table.head()"
   ]
  },
  {
   "cell_type": "markdown",
   "metadata": {},
   "source": [
    "### Forma da distribuição da duração dos problemas"
   ]
  },
  {
   "cell_type": "code",
   "execution_count": 18,
   "metadata": {},
   "outputs": [
    {
     "data": {
      "text/plain": [
       "<matplotlib.axes._subplots.AxesSubplot at 0x11c16e9b0>"
      ]
     },
     "execution_count": 18,
     "metadata": {},
     "output_type": "execute_result"
    },
    {
     "data": {
      "image/png": "[encoded data removed]",
      "text/plain": [
       "<Figure size 432x288 with 1 Axes>"
      ]
     },
     "metadata": {},
     "output_type": "display_data"
    }
   ],
   "source": [
    "table[['nome','name_encoded']].plot.hist(bins=100)"
   ]
  },
  {
   "cell_type": "code",
   "execution_count": 19,
   "metadata": {},
   "outputs": [
    {
     "name": "stdout",
     "output_type": "stream",
     "text": [
      "Há um total de 6014 occorências nesta amostra\n"
     ]
    }
   ],
   "source": [
    "print(f'Há um total de {len(np.unique(table.name_encoded.values))} occorências nesta amostra')"
   ]
  },
  {
   "cell_type": "markdown",
   "metadata": {},
   "source": [
    "### Duracação médias dos problemas (início até serem resolvidos)\n",
    "\n",
    "A grande maioria é resolvido entre 0 e 25000 segundos. Há alguns pontos fora da normalidade que demoram mais para serem resolvidos como pode ser visto principalmente no boxplot."
   ]
  },
  {
   "cell_type": "code",
   "execution_count": 10,
   "metadata": {},
   "outputs": [
    {
     "data": {
      "text/plain": [
       "<matplotlib.axes._subplots.AxesSubplot at 0x7f305b3325c0>"
      ]
     },
     "execution_count": 10,
     "metadata": {},
     "output_type": "execute_result"
    },
    {
     "data": {
      "image/png": "[encoded data removed]",
      "text/plain": [
       "<Figure size 432x288 with 1 Axes>"
      ]
     },
     "metadata": {
      "needs_background": "light"
     },
     "output_type": "display_data"
    }
   ],
   "source": [
    "table.groupby('name_encoded').duracao_s.mean().plot.hist(bins=4)"
   ]
  },
  {
   "cell_type": "code",
   "execution_count": 21,
   "metadata": {},
   "outputs": [
    {
     "data": {
      "text/plain": [
       "<matplotlib.axes._subplots.AxesSubplot at 0x11c71bef0>"
      ]
     },
     "execution_count": 21,
     "metadata": {},
     "output_type": "execute_result"
    },
    {
     "data": {
      "image/png": "[encoded data removed]",
      "text/plain": [
       "<Figure size 432x288 with 1 Axes>"
      ]
     },
     "metadata": {},
     "output_type": "display_data"
    }
   ],
   "source": [
    "table.groupby('name_encoded').duracao_s.mean().plot.box()"
   ]
  },
  {
   "cell_type": "markdown",
   "metadata": {},
   "source": [
    "## Análise da duração do problema que mais ocorre"
   ]
  },
  {
   "cell_type": "code",
   "execution_count": 11,
   "metadata": {},
   "outputs": [],
   "source": [
    "key_value = dict(table.groupby('name_encoded').name_encoded.count())"
   ]
  },
  {
   "cell_type": "code",
   "execution_count": 12,
   "metadata": {},
   "outputs": [],
   "source": [
    "greater_problem = max(key_value, key=key_value.get)"
   ]
  },
  {
   "cell_type": "code",
   "execution_count": 13,
   "metadata": {},
   "outputs": [
    {
     "name": "stdout",
     "output_type": "stream",
     "text": [
      "O problema que mais ocorre é o CPU acima de 90\n"
     ]
    }
   ],
   "source": [
    "print(f'O problema que mais ocorre é o {table[table[\"name_encoded\"]==greater_problem][\"nome\"].iloc[0]}')"
   ]
  },
  {
   "cell_type": "code",
   "execution_count": 14,
   "metadata": {},
   "outputs": [],
   "source": [
    "sub_table =table[table['name_encoded']==greater_problem]"
   ]
  },
  {
   "cell_type": "code",
   "execution_count": 15,
   "metadata": {},
   "outputs": [
    {
     "data": {
      "text/html": [
       "<div>\n",
       "<style scoped>\n",
       "    .dataframe tbody tr th:only-of-type {\n",
       "        vertical-align: middle;\n",
       "    }\n",
       "\n",
       "    .dataframe tbody tr th {\n",
       "        vertical-align: top;\n",
       "    }\n",
       "\n",
       "    .dataframe thead th {\n",
       "        text-align: right;\n",
       "    }\n",
       "</style>\n",
       "<table border=\"1\" class=\"dataframe\">\n",
       "  <thead>\n",
       "    <tr style=\"text-align: right;\">\n",
       "      <th></th>\n",
       "      <th>duracao_s</th>\n",
       "    </tr>\n",
       "  </thead>\n",
       "  <tbody>\n",
       "    <tr>\n",
       "      <th>count</th>\n",
       "      <td>1347.000000</td>\n",
       "    </tr>\n",
       "    <tr>\n",
       "      <th>mean</th>\n",
       "      <td>435.503341</td>\n",
       "    </tr>\n",
       "    <tr>\n",
       "      <th>std</th>\n",
       "      <td>1009.851567</td>\n",
       "    </tr>\n",
       "    <tr>\n",
       "      <th>min</th>\n",
       "      <td>59.000000</td>\n",
       "    </tr>\n",
       "    <tr>\n",
       "      <th>25%</th>\n",
       "      <td>60.000000</td>\n",
       "    </tr>\n",
       "    <tr>\n",
       "      <th>50%</th>\n",
       "      <td>180.000000</td>\n",
       "    </tr>\n",
       "    <tr>\n",
       "      <th>75%</th>\n",
       "      <td>360.000000</td>\n",
       "    </tr>\n",
       "    <tr>\n",
       "      <th>max</th>\n",
       "      <td>20580.000000</td>\n",
       "    </tr>\n",
       "  </tbody>\n",
       "</table>\n",
       "</div>"
      ],
      "text/plain": [
       "          duracao_s\n",
       "count   1347.000000\n",
       "mean     435.503341\n",
       "std     1009.851567\n",
       "min       59.000000\n",
       "25%       60.000000\n",
       "50%      180.000000\n",
       "75%      360.000000\n",
       "max    20580.000000"
      ]
     },
     "execution_count": 15,
     "metadata": {},
     "output_type": "execute_result"
    }
   ],
   "source": [
    "sub_table[['duracao_s']].describe()"
   ]
  },
  {
   "cell_type": "code",
   "execution_count": 27,
   "metadata": {},
   "outputs": [
    {
     "data": {
      "text/plain": [
       "<matplotlib.axes._subplots.AxesSubplot at 0x11c255c50>"
      ]
     },
     "execution_count": 27,
     "metadata": {},
     "output_type": "execute_result"
    },
    {
     "data": {
      "image/png": "[encoded data removed]",
      "text/plain": [
       "<Figure size 432x288 with 1 Axes>"
      ]
     },
     "metadata": {},
     "output_type": "display_data"
    }
   ],
   "source": [
    "sub_table[['duracao_s']].plot.hist()"
   ]
  },
  {
   "cell_type": "code",
   "execution_count": 28,
   "metadata": {},
   "outputs": [
    {
     "data": {
      "text/plain": [
       "<matplotlib.axes._subplots.AxesSubplot at 0x11cb8def0>"
      ]
     },
     "execution_count": 28,
     "metadata": {},
     "output_type": "execute_result"
    },
    {
     "data": {
      "image/png": "[encoded data removed]",
      "text/plain": [
       "<Figure size 432x288 with 1 Axes>"
      ]
     },
     "metadata": {},
     "output_type": "display_data"
    }
   ],
   "source": [
    "sub_table[['duracao_s']].plot.box()"
   ]
  },
  {
   "cell_type": "markdown",
   "metadata": {},
   "source": [
    "## Analisando relação entre as ocorrências"
   ]
  },
  {
   "cell_type": "code",
   "execution_count": 16,
   "metadata": {},
   "outputs": [],
   "source": [
    "# Carregar dados em um dicionario\n",
    "dados = table.iloc[:].values"
   ]
  },
  {
   "cell_type": "code",
   "execution_count": 70,
   "metadata": {},
   "outputs": [],
   "source": [
    "dict_ocorrencia = {} # o dicionario armazena, para cada ocorrência, a lista de ocorrências que ocorreram no intervalo de 1 hora\n",
    "for i in range(len(dados)):\n",
    "    horario_limite = (dados[i][2])+pd.Timedelta(hours=1)\n",
    "    lista_ocorrencias = []\n",
    "    for j in range(i+1, len(dados)):\n",
    "        if (dados[j][2] <= horario_limite and dados[j][1] == dados[i][1]):\n",
    "            lista_ocorrencias.append([j, dados[j][5]])\n",
    "        else:\n",
    "            break\n",
    "    dict_ocorrencia[(i, dados[i][5])] = lista_ocorrencias  # tupla (id_ocorrencia, lista de ocorrências)"
   ]
  },
  {
   "cell_type": "code",
   "execution_count": 18,
   "metadata": {},
   "outputs": [],
   "source": [
    "# intervalo de abertura e fechamento\n",
    "\n",
    "dict_ocorrencia_intervalo = {} # o dicionario armazena, para cada ocorrência, a lista de ocorrências que ocorreram no intervalo de 1 hora\n",
    "for i in range(len(dados)):\n",
    "    #horario_limite = (dados[i][2])+pd.Timedelta(hours=1)\n",
    "    lista_ocorrencias = []\n",
    "    for j in range(i+1, len(dados)):\n",
    "        if ( (dados[j][2] >= dados[i][2] and dados[j][2] <= dados[i][3]) and dados[j][1] == dados[i][1] ):\n",
    "        #if (dados[j][2] <= horario_limite and dados[j][1] == dados[i][1]):\n",
    "            lista_ocorrencias.append([j, dados[j][5]])\n",
    "        else:\n",
    "            break\n",
    "    dict_ocorrencia_intervalo[(i, dados[i][5])] = lista_ocorrencias  # tupla (id_ocorrencia, lista de ocorrências)"
   ]
  },
  {
   "cell_type": "code",
   "execution_count": 63,
   "metadata": {},
   "outputs": [
    {
     "name": "stderr",
     "output_type": "stream",
     "text": [
      "100%|██████████| 32202/32202 [07:21<00:00, 107.71it/s]\n"
     ]
    }
   ],
   "source": [
    "from tqdm import tqdm\n",
    "# 30 min antes e 1 hora depois\n",
    "\n",
    "dict_ocorrencia_1 = {} # o dicionario armazena, para cada ocorrência, a lista de ocorrências que ocorreram no intervalo de 1 hora\n",
    "for i in tqdm(range(len(dados))):\n",
    "    horario_antes = (dados[i][2])-pd.Timedelta(minutes=30)\n",
    "    horario_depois = (dados[i][2])+pd.Timedelta(hours=1)\n",
    "    lista_ocorrencias = []\n",
    "    for j in range(len(dados)):\n",
    "        if ( (dados[j][2] >= horario_antes and dados[j][2] <= horario_depois) and dados[j][1] == dados[i][1] ):\n",
    "        #if (dados[j][2] <= horario_limite and dados[j][1] == dados[i][1]):\n",
    "            lista_ocorrencias.append([j, dados[j][5]])\n",
    "        #else:\n",
    "            #break\n",
    "    dict_ocorrencia_1[(i, dados[i][5])] = lista_ocorrencias  # tupla (id_ocorrencia, lista de ocorrências)"
   ]
  },
  {
   "cell_type": "code",
   "execution_count": 44,
   "metadata": {},
   "outputs": [],
   "source": [
    "def buscar_ocorrencias(name_encoded, dicionario): \n",
    "    chaves = dicionario.keys()\n",
    "    chaves_ocorrencias = []\n",
    "    for i in range(len(dicionario)):\n",
    "        if ((i, name_encoded) in chaves):\n",
    "            key = (i, name_encoded)\n",
    "            chaves_ocorrencias.append(key)\n",
    "    return chaves_ocorrencias # dado o código de um evento é retornado o(s) id(s) da(s) ocorrências que aquele evento ocorreu\n",
    "\n",
    "import collections\n",
    "\n",
    "def listar_ocorrencias(chaves, dicionario):\n",
    "    ocorrencias = []\n",
    "    for chave in chaves:\n",
    "        for i in range(len(dicionario[chave])):\n",
    "            ocorrencias.append(str(dicionario[chave][i][1]))\n",
    "    return collections.Counter(ocorrencias) # os eventos são organizados em uma coleção\n",
    "\n",
    "def gerar_grafico(coll_ocorrencias, n_ocorrencias):\n",
    "    mais_comum = dict(coll_ocorrencias.most_common(n_ocorrencias))\n",
    "    \n",
    "    import matplotlib.pyplot as plt\n",
    "    ocorr = list(mais_comum.keys())\n",
    "    qtd_ocorr = list(mais_comum.values())\n",
    "\n",
    "    plt.bar(ocorr, qtd_ocorr, color='red', width=0.2)\n",
    "    plt.xticks(ocorr)\n",
    "    plt.ylabel('qtd de ocorrências')\n",
    "    plt.xlabel('cod. evento')\n",
    "    plt.rcParams['figure.figsize'] = (30,10)\n",
    "    plt.show()"
   ]
  },
  {
   "cell_type": "code",
   "execution_count": 38,
   "metadata": {},
   "outputs": [],
   "source": [
    "def run_analise_relacao(dicionario, cod_ocorrencia, n_ocorrencias):\n",
    "    keys = buscar_ocorrencias(cod_ocorrencia, dicionario)\n",
    "    c = listar_ocorrencias(keys, dicionario)\n",
    "    gerar_grafico(c, n_ocorrencias)"
   ]
  },
  {
   "cell_type": "code",
   "execution_count": 73,
   "metadata": {},
   "outputs": [
    {
     "data": {
      "image/png": "[encoded data removed]",
      "text/plain": [
       "<Figure size 1440x720 with 1 Axes>"
      ]
     },
     "metadata": {
      "needs_background": "light"
     },
     "output_type": "display_data"
    }
   ],
   "source": [
    "# dados - em formato de dicionario c/ todas as ocorrências\n",
    "# cod_evento\n",
    "# qtd de eventos relacionados\n",
    "\n",
    "\n",
    "# o gráfico vai mostrar para dado um evento quais os n eventos que mais ocorreram\n",
    "\n",
    "import matplotlib.pyplot as plt\n",
    "plt.rcParams['figure.figsize'] = (20,10)\n",
    "run_analise_relacao(dict_ocorrencia_1, 3340, 25)"
   ]
  },
  {
   "cell_type": "markdown",
   "metadata": {},
   "source": [
    "A abordagem de considerar um intervalo antes e depois de uma ocorrência parece ser interessante. Observe o gráfico acima. O evento 'Gateway REDEMETAGW Down' tem três principais eventos que co-ocorrem na maioria das vezes (.85 - .79%)\n",
    "\n",
    "* Rota do Gateway Group: Redemeta_Priority foi alterada\n",
    "* Rota do Gateway Group: EAD_Priority foi alterada\n",
    "* Rota do Gateway Group: EAD_Priority usando gateway alternativo"
   ]
  },
  {
   "cell_type": "code",
   "execution_count": 72,
   "metadata": {
    "scrolled": true
   },
   "outputs": [
    {
     "name": "stdout",
     "output_type": "stream",
     "text": [
      "Gateway REDEMETAGW Down\n",
      "Rota do Gateway Group: Redemeta_Priority foi alterada\n",
      "Rota do Gateway Group: EAD_Priority foi alterada\n",
      "Rota do Gateway Group: EAD_Priority usando gateway alternativo\n"
     ]
    }
   ],
   "source": [
    "# pra saber o nome do evento\n",
    "print(lbe.classes_[1594])\n",
    "print(lbe.classes_[3355])\n",
    "print(lbe.classes_[3340])\n",
    "print(lbe.classes_[3341])"
   ]
  },
  {
   "cell_type": "markdown",
   "metadata": {},
   "source": [
    "## Análise de relação por dia"
   ]
  },
  {
   "cell_type": "code",
   "execution_count": 95,
   "metadata": {},
   "outputs": [
    {
     "data": {
      "text/html": [
       "<div>\n",
       "<style scoped>\n",
       "    .dataframe tbody tr th:only-of-type {\n",
       "        vertical-align: middle;\n",
       "    }\n",
       "\n",
       "    .dataframe tbody tr th {\n",
       "        vertical-align: top;\n",
       "    }\n",
       "\n",
       "    .dataframe thead th {\n",
       "        text-align: right;\n",
       "    }\n",
       "</style>\n",
       "<table border=\"1\" class=\"dataframe\">\n",
       "  <thead>\n",
       "    <tr style=\"text-align: right;\">\n",
       "      <th></th>\n",
       "      <th>nome</th>\n",
       "      <th>host</th>\n",
       "      <th>abertura</th>\n",
       "      <th>fechamento</th>\n",
       "      <th>duracao_s</th>\n",
       "      <th>name_encoded</th>\n",
       "    </tr>\n",
       "  </thead>\n",
       "  <tbody>\n",
       "    <tr>\n",
       "      <th>142</th>\n",
       "      <td>Gateway REDEMETAGW Down</td>\n",
       "      <td>Host_USC-pri-fw</td>\n",
       "      <td>2019-03-30 00:11:09</td>\n",
       "      <td>2019-03-30 00:15:09</td>\n",
       "      <td>240</td>\n",
       "      <td>1594</td>\n",
       "    </tr>\n",
       "    <tr>\n",
       "      <th>143</th>\n",
       "      <td>Gateway REDEMETAGW Down</td>\n",
       "      <td>USC-pri-fw01</td>\n",
       "      <td>2019-03-30 00:11:25</td>\n",
       "      <td>2019-03-30 00:14:25</td>\n",
       "      <td>180</td>\n",
       "      <td>1594</td>\n",
       "    </tr>\n",
       "    <tr>\n",
       "      <th>272</th>\n",
       "      <td>Gateway REDEMETAGW Down</td>\n",
       "      <td>Host_USC-pri-fw</td>\n",
       "      <td>2019-03-30 06:26:13</td>\n",
       "      <td>2019-03-30 06:29:09</td>\n",
       "      <td>176</td>\n",
       "      <td>1594</td>\n",
       "    </tr>\n",
       "    <tr>\n",
       "      <th>273</th>\n",
       "      <td>Gateway REDEMETAGW Down</td>\n",
       "      <td>USC-pri-fw01</td>\n",
       "      <td>2019-03-30 06:26:25</td>\n",
       "      <td>2019-03-30 06:29:25</td>\n",
       "      <td>180</td>\n",
       "      <td>1594</td>\n",
       "    </tr>\n",
       "    <tr>\n",
       "      <th>373</th>\n",
       "      <td>Gateway REDEMETAGW Down</td>\n",
       "      <td>Host_USC-pri-fw</td>\n",
       "      <td>2019-03-30 10:43:10</td>\n",
       "      <td>2019-03-30 10:47:10</td>\n",
       "      <td>240</td>\n",
       "      <td>1594</td>\n",
       "    </tr>\n",
       "    <tr>\n",
       "      <th>374</th>\n",
       "      <td>Gateway REDEMETAGW Down</td>\n",
       "      <td>USC-pri-fw01</td>\n",
       "      <td>2019-03-30 10:43:25</td>\n",
       "      <td>2019-03-30 10:47:25</td>\n",
       "      <td>240</td>\n",
       "      <td>1594</td>\n",
       "    </tr>\n",
       "    <tr>\n",
       "      <th>1063</th>\n",
       "      <td>Gateway REDEMETAGW Down</td>\n",
       "      <td>USC-pri-fw01</td>\n",
       "      <td>2019-03-31 19:14:26</td>\n",
       "      <td>2019-04-01 08:41:25</td>\n",
       "      <td>48419</td>\n",
       "      <td>1594</td>\n",
       "    </tr>\n",
       "    <tr>\n",
       "      <th>1066</th>\n",
       "      <td>Gateway REDEMETAGW Down</td>\n",
       "      <td>Host_USC-pri-fw</td>\n",
       "      <td>2019-03-31 19:15:10</td>\n",
       "      <td>2019-03-31 19:18:09</td>\n",
       "      <td>179</td>\n",
       "      <td>1594</td>\n",
       "    </tr>\n",
       "    <tr>\n",
       "      <th>1286</th>\n",
       "      <td>Gateway REDEMETAGW Down</td>\n",
       "      <td>Host_USC-pri-fw</td>\n",
       "      <td>2019-04-01 08:26:10</td>\n",
       "      <td>2019-04-01 08:41:10</td>\n",
       "      <td>900</td>\n",
       "      <td>1594</td>\n",
       "    </tr>\n",
       "    <tr>\n",
       "      <th>1533</th>\n",
       "      <td>Gateway REDEMETAGW Down</td>\n",
       "      <td>USC-pri-fw01</td>\n",
       "      <td>2019-04-01 15:03:25</td>\n",
       "      <td>2019-04-01 15:06:26</td>\n",
       "      <td>181</td>\n",
       "      <td>1594</td>\n",
       "    </tr>\n",
       "    <tr>\n",
       "      <th>1594</th>\n",
       "      <td>Gateway REDEMETAGW Down</td>\n",
       "      <td>USC-pri-fw01</td>\n",
       "      <td>2019-04-01 15:34:25</td>\n",
       "      <td>2019-04-01 15:44:25</td>\n",
       "      <td>600</td>\n",
       "      <td>1594</td>\n",
       "    </tr>\n",
       "    <tr>\n",
       "      <th>1596</th>\n",
       "      <td>Gateway REDEMETAGW Down</td>\n",
       "      <td>Host_USC-pri-fw</td>\n",
       "      <td>2019-04-01 15:35:10</td>\n",
       "      <td>2019-04-01 15:44:09</td>\n",
       "      <td>539</td>\n",
       "      <td>1594</td>\n",
       "    </tr>\n",
       "    <tr>\n",
       "      <th>3612</th>\n",
       "      <td>Gateway REDEMETAGW Down</td>\n",
       "      <td>USC-pri-fw01</td>\n",
       "      <td>2019-04-02 13:56:25</td>\n",
       "      <td>2019-04-02 13:59:25</td>\n",
       "      <td>180</td>\n",
       "      <td>1594</td>\n",
       "    </tr>\n",
       "    <tr>\n",
       "      <th>3613</th>\n",
       "      <td>Gateway REDEMETAGW Down</td>\n",
       "      <td>USC-pri-fw01</td>\n",
       "      <td>2019-04-02 13:56:25</td>\n",
       "      <td>2019-04-02 13:59:25</td>\n",
       "      <td>180</td>\n",
       "      <td>1594</td>\n",
       "    </tr>\n",
       "    <tr>\n",
       "      <th>3940</th>\n",
       "      <td>Gateway REDEMETAGW Down</td>\n",
       "      <td>USC-pri-fw01</td>\n",
       "      <td>2019-04-02 15:36:25</td>\n",
       "      <td>2019-04-02 15:43:25</td>\n",
       "      <td>420</td>\n",
       "      <td>1594</td>\n",
       "    </tr>\n",
       "    <tr>\n",
       "      <th>3941</th>\n",
       "      <td>Gateway REDEMETAGW Down</td>\n",
       "      <td>USC-pri-fw01</td>\n",
       "      <td>2019-04-02 15:36:25</td>\n",
       "      <td>2019-04-02 15:43:25</td>\n",
       "      <td>420</td>\n",
       "      <td>1594</td>\n",
       "    </tr>\n",
       "    <tr>\n",
       "      <th>3951</th>\n",
       "      <td>Gateway REDEMETAGW Down</td>\n",
       "      <td>Host_USC-pri-fw</td>\n",
       "      <td>2019-04-02 15:37:09</td>\n",
       "      <td>2019-04-02 15:41:10</td>\n",
       "      <td>241</td>\n",
       "      <td>1594</td>\n",
       "    </tr>\n",
       "    <tr>\n",
       "      <th>3952</th>\n",
       "      <td>Gateway REDEMETAGW Down</td>\n",
       "      <td>Host_USC-pri-fw</td>\n",
       "      <td>2019-04-02 15:37:09</td>\n",
       "      <td>2019-04-02 15:41:10</td>\n",
       "      <td>241</td>\n",
       "      <td>1594</td>\n",
       "    </tr>\n",
       "    <tr>\n",
       "      <th>7603</th>\n",
       "      <td>Gateway REDEMETAGW Down</td>\n",
       "      <td>Host_USC-pri-fw</td>\n",
       "      <td>2019-04-03 14:58:10</td>\n",
       "      <td>2019-04-03 15:01:10</td>\n",
       "      <td>180</td>\n",
       "      <td>1594</td>\n",
       "    </tr>\n",
       "    <tr>\n",
       "      <th>7699</th>\n",
       "      <td>Gateway REDEMETAGW Down</td>\n",
       "      <td>USC-pri-fw01</td>\n",
       "      <td>2019-04-03 15:01:25</td>\n",
       "      <td>2019-04-03 15:04:25</td>\n",
       "      <td>180</td>\n",
       "      <td>1594</td>\n",
       "    </tr>\n",
       "    <tr>\n",
       "      <th>7709</th>\n",
       "      <td>Gateway REDEMETAGW Down</td>\n",
       "      <td>Host_USC-pri-fw</td>\n",
       "      <td>2019-04-03 15:04:10</td>\n",
       "      <td>2019-04-03 15:07:09</td>\n",
       "      <td>179</td>\n",
       "      <td>1594</td>\n",
       "    </tr>\n",
       "    <tr>\n",
       "      <th>7715</th>\n",
       "      <td>Gateway REDEMETAGW Down</td>\n",
       "      <td>USC-pri-fw01</td>\n",
       "      <td>2019-04-03 15:06:26</td>\n",
       "      <td>2019-04-03 15:18:25</td>\n",
       "      <td>719</td>\n",
       "      <td>1594</td>\n",
       "    </tr>\n",
       "    <tr>\n",
       "      <th>7775</th>\n",
       "      <td>Gateway REDEMETAGW Down</td>\n",
       "      <td>Host_USC-pri-fw</td>\n",
       "      <td>2019-04-03 15:13:09</td>\n",
       "      <td>2019-04-03 15:18:10</td>\n",
       "      <td>301</td>\n",
       "      <td>1594</td>\n",
       "    </tr>\n",
       "    <tr>\n",
       "      <th>11958</th>\n",
       "      <td>Gateway REDEMETAGW Down</td>\n",
       "      <td>USC-pri-fw01</td>\n",
       "      <td>2019-04-04 09:20:25</td>\n",
       "      <td>2019-04-04 09:24:25</td>\n",
       "      <td>240</td>\n",
       "      <td>1594</td>\n",
       "    </tr>\n",
       "    <tr>\n",
       "      <th>16752</th>\n",
       "      <td>Gateway REDEMETAGW Down</td>\n",
       "      <td>USC-pri-fw01</td>\n",
       "      <td>2019-04-05 09:51:25</td>\n",
       "      <td>2019-04-05 10:05:26</td>\n",
       "      <td>841</td>\n",
       "      <td>1594</td>\n",
       "    </tr>\n",
       "    <tr>\n",
       "      <th>16797</th>\n",
       "      <td>Gateway REDEMETAGW Down</td>\n",
       "      <td>USC-pri-fw01</td>\n",
       "      <td>2019-04-05 10:07:25</td>\n",
       "      <td>2019-04-05 10:10:25</td>\n",
       "      <td>180</td>\n",
       "      <td>1594</td>\n",
       "    </tr>\n",
       "    <tr>\n",
       "      <th>16816</th>\n",
       "      <td>Gateway REDEMETAGW Down</td>\n",
       "      <td>USC-pri-fw01</td>\n",
       "      <td>2019-04-05 10:16:25</td>\n",
       "      <td>2019-04-05 10:19:25</td>\n",
       "      <td>180</td>\n",
       "      <td>1594</td>\n",
       "    </tr>\n",
       "    <tr>\n",
       "      <th>16828</th>\n",
       "      <td>Gateway REDEMETAGW Down</td>\n",
       "      <td>USC-pri-fw01</td>\n",
       "      <td>2019-04-05 10:21:25</td>\n",
       "      <td>2019-04-05 10:24:25</td>\n",
       "      <td>180</td>\n",
       "      <td>1594</td>\n",
       "    </tr>\n",
       "    <tr>\n",
       "      <th>16838</th>\n",
       "      <td>Gateway REDEMETAGW Down</td>\n",
       "      <td>USC-pri-fw01</td>\n",
       "      <td>2019-04-05 10:27:25</td>\n",
       "      <td>2019-04-05 10:30:25</td>\n",
       "      <td>180</td>\n",
       "      <td>1594</td>\n",
       "    </tr>\n",
       "    <tr>\n",
       "      <th>17646</th>\n",
       "      <td>Gateway REDEMETAGW Down</td>\n",
       "      <td>USC-pri-fw01</td>\n",
       "      <td>2019-04-05 13:39:25</td>\n",
       "      <td>2019-04-05 13:44:25</td>\n",
       "      <td>300</td>\n",
       "      <td>1594</td>\n",
       "    </tr>\n",
       "    <tr>\n",
       "      <th>17841</th>\n",
       "      <td>Gateway REDEMETAGW Down</td>\n",
       "      <td>USC-pri-fw01</td>\n",
       "      <td>2019-04-05 14:17:25</td>\n",
       "      <td>2019-04-05 14:42:25</td>\n",
       "      <td>1500</td>\n",
       "      <td>1594</td>\n",
       "    </tr>\n",
       "    <tr>\n",
       "      <th>21804</th>\n",
       "      <td>Gateway REDEMETAGW Down</td>\n",
       "      <td>USC-pri-fw01</td>\n",
       "      <td>2019-04-06 10:35:25</td>\n",
       "      <td>2019-04-06 10:38:25</td>\n",
       "      <td>180</td>\n",
       "      <td>1594</td>\n",
       "    </tr>\n",
       "    <tr>\n",
       "      <th>26983</th>\n",
       "      <td>Gateway REDEMETAGW Down</td>\n",
       "      <td>USC-pri-fw01</td>\n",
       "      <td>2019-04-08 09:27:25</td>\n",
       "      <td>2019-04-08 09:30:25</td>\n",
       "      <td>180</td>\n",
       "      <td>1594</td>\n",
       "    </tr>\n",
       "    <tr>\n",
       "      <th>28550</th>\n",
       "      <td>Gateway REDEMETAGW Down</td>\n",
       "      <td>Host_USC-pri-fw</td>\n",
       "      <td>2019-04-08 15:12:09</td>\n",
       "      <td>2019-04-08 15:18:10</td>\n",
       "      <td>361</td>\n",
       "      <td>1594</td>\n",
       "    </tr>\n",
       "    <tr>\n",
       "      <th>28552</th>\n",
       "      <td>Gateway REDEMETAGW Down</td>\n",
       "      <td>USC-pri-fw01</td>\n",
       "      <td>2019-04-08 15:13:25</td>\n",
       "      <td>2019-04-08 15:18:25</td>\n",
       "      <td>300</td>\n",
       "      <td>1594</td>\n",
       "    </tr>\n",
       "    <tr>\n",
       "      <th>31218</th>\n",
       "      <td>Gateway REDEMETAGW Down</td>\n",
       "      <td>USC-pri-fw01</td>\n",
       "      <td>2019-04-09 07:16:25</td>\n",
       "      <td>2019-04-09 07:19:25</td>\n",
       "      <td>180</td>\n",
       "      <td>1594</td>\n",
       "    </tr>\n",
       "    <tr>\n",
       "      <th>31237</th>\n",
       "      <td>Gateway REDEMETAGW Down</td>\n",
       "      <td>Host_USC-pri-fw</td>\n",
       "      <td>2019-04-09 07:30:09</td>\n",
       "      <td>2019-04-09 07:34:09</td>\n",
       "      <td>240</td>\n",
       "      <td>1594</td>\n",
       "    </tr>\n",
       "    <tr>\n",
       "      <th>31244</th>\n",
       "      <td>Gateway REDEMETAGW Down</td>\n",
       "      <td>USC-pri-fw01</td>\n",
       "      <td>2019-04-09 07:31:25</td>\n",
       "      <td>2019-04-09 07:34:25</td>\n",
       "      <td>180</td>\n",
       "      <td>1594</td>\n",
       "    </tr>\n",
       "    <tr>\n",
       "      <th>31261</th>\n",
       "      <td>Gateway REDEMETAGW Down</td>\n",
       "      <td>Host_USC-pri-fw</td>\n",
       "      <td>2019-04-09 07:35:10</td>\n",
       "      <td>2019-04-09 10:00:10</td>\n",
       "      <td>8700</td>\n",
       "      <td>1594</td>\n",
       "    </tr>\n",
       "    <tr>\n",
       "      <th>31262</th>\n",
       "      <td>Gateway REDEMETAGW Down</td>\n",
       "      <td>USC-pri-fw01</td>\n",
       "      <td>2019-04-09 07:35:25</td>\n",
       "      <td>2019-04-09 07:39:26</td>\n",
       "      <td>241</td>\n",
       "      <td>1594</td>\n",
       "    </tr>\n",
       "    <tr>\n",
       "      <th>31974</th>\n",
       "      <td>Gateway REDEMETAGW Down</td>\n",
       "      <td>USC-pri-fw01</td>\n",
       "      <td>2019-04-09 09:57:25</td>\n",
       "      <td>2019-04-09 10:02:25</td>\n",
       "      <td>300</td>\n",
       "      <td>1594</td>\n",
       "    </tr>\n",
       "  </tbody>\n",
       "</table>\n",
       "</div>"
      ],
      "text/plain": [
       "                          nome             host            abertura  \\\n",
       "142    Gateway REDEMETAGW Down  Host_USC-pri-fw 2019-03-30 00:11:09   \n",
       "143    Gateway REDEMETAGW Down     USC-pri-fw01 2019-03-30 00:11:25   \n",
       "272    Gateway REDEMETAGW Down  Host_USC-pri-fw 2019-03-30 06:26:13   \n",
       "273    Gateway REDEMETAGW Down     USC-pri-fw01 2019-03-30 06:26:25   \n",
       "373    Gateway REDEMETAGW Down  Host_USC-pri-fw 2019-03-30 10:43:10   \n",
       "374    Gateway REDEMETAGW Down     USC-pri-fw01 2019-03-30 10:43:25   \n",
       "1063   Gateway REDEMETAGW Down     USC-pri-fw01 2019-03-31 19:14:26   \n",
       "1066   Gateway REDEMETAGW Down  Host_USC-pri-fw 2019-03-31 19:15:10   \n",
       "1286   Gateway REDEMETAGW Down  Host_USC-pri-fw 2019-04-01 08:26:10   \n",
       "1533   Gateway REDEMETAGW Down     USC-pri-fw01 2019-04-01 15:03:25   \n",
       "1594   Gateway REDEMETAGW Down     USC-pri-fw01 2019-04-01 15:34:25   \n",
       "1596   Gateway REDEMETAGW Down  Host_USC-pri-fw 2019-04-01 15:35:10   \n",
       "3612   Gateway REDEMETAGW Down     USC-pri-fw01 2019-04-02 13:56:25   \n",
       "3613   Gateway REDEMETAGW Down     USC-pri-fw01 2019-04-02 13:56:25   \n",
       "3940   Gateway REDEMETAGW Down     USC-pri-fw01 2019-04-02 15:36:25   \n",
       "3941   Gateway REDEMETAGW Down     USC-pri-fw01 2019-04-02 15:36:25   \n",
       "3951   Gateway REDEMETAGW Down  Host_USC-pri-fw 2019-04-02 15:37:09   \n",
       "3952   Gateway REDEMETAGW Down  Host_USC-pri-fw 2019-04-02 15:37:09   \n",
       "7603   Gateway REDEMETAGW Down  Host_USC-pri-fw 2019-04-03 14:58:10   \n",
       "7699   Gateway REDEMETAGW Down     USC-pri-fw01 2019-04-03 15:01:25   \n",
       "7709   Gateway REDEMETAGW Down  Host_USC-pri-fw 2019-04-03 15:04:10   \n",
       "7715   Gateway REDEMETAGW Down     USC-pri-fw01 2019-04-03 15:06:26   \n",
       "7775   Gateway REDEMETAGW Down  Host_USC-pri-fw 2019-04-03 15:13:09   \n",
       "11958  Gateway REDEMETAGW Down     USC-pri-fw01 2019-04-04 09:20:25   \n",
       "16752  Gateway REDEMETAGW Down     USC-pri-fw01 2019-04-05 09:51:25   \n",
       "16797  Gateway REDEMETAGW Down     USC-pri-fw01 2019-04-05 10:07:25   \n",
       "16816  Gateway REDEMETAGW Down     USC-pri-fw01 2019-04-05 10:16:25   \n",
       "16828  Gateway REDEMETAGW Down     USC-pri-fw01 2019-04-05 10:21:25   \n",
       "16838  Gateway REDEMETAGW Down     USC-pri-fw01 2019-04-05 10:27:25   \n",
       "17646  Gateway REDEMETAGW Down     USC-pri-fw01 2019-04-05 13:39:25   \n",
       "17841  Gateway REDEMETAGW Down     USC-pri-fw01 2019-04-05 14:17:25   \n",
       "21804  Gateway REDEMETAGW Down     USC-pri-fw01 2019-04-06 10:35:25   \n",
       "26983  Gateway REDEMETAGW Down     USC-pri-fw01 2019-04-08 09:27:25   \n",
       "28550  Gateway REDEMETAGW Down  Host_USC-pri-fw 2019-04-08 15:12:09   \n",
       "28552  Gateway REDEMETAGW Down     USC-pri-fw01 2019-04-08 15:13:25   \n",
       "31218  Gateway REDEMETAGW Down     USC-pri-fw01 2019-04-09 07:16:25   \n",
       "31237  Gateway REDEMETAGW Down  Host_USC-pri-fw 2019-04-09 07:30:09   \n",
       "31244  Gateway REDEMETAGW Down     USC-pri-fw01 2019-04-09 07:31:25   \n",
       "31261  Gateway REDEMETAGW Down  Host_USC-pri-fw 2019-04-09 07:35:10   \n",
       "31262  Gateway REDEMETAGW Down     USC-pri-fw01 2019-04-09 07:35:25   \n",
       "31974  Gateway REDEMETAGW Down     USC-pri-fw01 2019-04-09 09:57:25   \n",
       "\n",
       "               fechamento  duracao_s  name_encoded  \n",
       "142   2019-03-30 00:15:09        240          1594  \n",
       "143   2019-03-30 00:14:25        180          1594  \n",
       "272   2019-03-30 06:29:09        176          1594  \n",
       "273   2019-03-30 06:29:25        180          1594  \n",
       "373   2019-03-30 10:47:10        240          1594  \n",
       "374   2019-03-30 10:47:25        240          1594  \n",
       "1063  2019-04-01 08:41:25      48419          1594  \n",
       "1066  2019-03-31 19:18:09        179          1594  \n",
       "1286  2019-04-01 08:41:10        900          1594  \n",
       "1533  2019-04-01 15:06:26        181          1594  \n",
       "1594  2019-04-01 15:44:25        600          1594  \n",
       "1596  2019-04-01 15:44:09        539          1594  \n",
       "3612  2019-04-02 13:59:25        180          1594  \n",
       "3613  2019-04-02 13:59:25        180          1594  \n",
       "3940  2019-04-02 15:43:25        420          1594  \n",
       "3941  2019-04-02 15:43:25        420          1594  \n",
       "3951  2019-04-02 15:41:10        241          1594  \n",
       "3952  2019-04-02 15:41:10        241          1594  \n",
       "7603  2019-04-03 15:01:10        180          1594  \n",
       "7699  2019-04-03 15:04:25        180          1594  \n",
       "7709  2019-04-03 15:07:09        179          1594  \n",
       "7715  2019-04-03 15:18:25        719          1594  \n",
       "7775  2019-04-03 15:18:10        301          1594  \n",
       "11958 2019-04-04 09:24:25        240          1594  \n",
       "16752 2019-04-05 10:05:26        841          1594  \n",
       "16797 2019-04-05 10:10:25        180          1594  \n",
       "16816 2019-04-05 10:19:25        180          1594  \n",
       "16828 2019-04-05 10:24:25        180          1594  \n",
       "16838 2019-04-05 10:30:25        180          1594  \n",
       "17646 2019-04-05 13:44:25        300          1594  \n",
       "17841 2019-04-05 14:42:25       1500          1594  \n",
       "21804 2019-04-06 10:38:25        180          1594  \n",
       "26983 2019-04-08 09:30:25        180          1594  \n",
       "28550 2019-04-08 15:18:10        361          1594  \n",
       "28552 2019-04-08 15:18:25        300          1594  \n",
       "31218 2019-04-09 07:19:25        180          1594  \n",
       "31237 2019-04-09 07:34:09        240          1594  \n",
       "31244 2019-04-09 07:34:25        180          1594  \n",
       "31261 2019-04-09 10:00:10       8700          1594  \n",
       "31262 2019-04-09 07:39:26        241          1594  \n",
       "31974 2019-04-09 10:02:25        300          1594  "
      ]
     },
     "execution_count": 95,
     "metadata": {},
     "output_type": "execute_result"
    }
   ],
   "source": [
    "table.query('name_encoded in [1594]')"
   ]
  }
 ],
 "metadata": {
  "kernelspec": {
   "display_name": "Python 3",
   "language": "python",
   "name": "python3"
  },
  "language_info": {
   "codemirror_mode": {
    "name": "ipython",
    "version": 3
   },
   "file_extension": ".py",
   "mimetype": "text/x-python",
   "name": "python",
   "nbconvert_exporter": "python",
   "pygments_lexer": "ipython3",
   "version": "3.6.8"
  }
 },
 "nbformat": 4,
 "nbformat_minor": 2
}
