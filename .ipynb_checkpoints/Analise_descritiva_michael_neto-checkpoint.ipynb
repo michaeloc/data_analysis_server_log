{
 "cells": [
  {
   "cell_type": "code",
   "execution_count": 3,
   "metadata": {},
   "outputs": [],
   "source": [
    "%matplotlib inline\n",
    "import pandas as pd\n",
    "import numpy as np\n",
    "import seaborn as sns\n",
    "import ast\n",
    "sns.set()\n",
    "\n",
    "from pyathena import connect"
   ]
  },
  {
   "cell_type": "code",
   "execution_count": 4,
   "metadata": {},
   "outputs": [],
   "source": [
    "conn = connect(s3_staging_dir='s3://aws-athena-query-results-415718651610-us-east-1', region_name='us-east-1')\n",
    "data = pd.read_sql(\"SELECT type,CAST(item[1] as JSON) as item,CAST(host[1] as JSON) as host, CAST(trigger[1] as JSON) as trigger, CAST(event[1] as JSON) as event, usc_das_id  FROM das.event limit 1\", conn)\n"
   ]
  },
  {
   "cell_type": "code",
   "execution_count": 5,
   "metadata": {},
   "outputs": [
    {
     "data": {
      "text/html": [
       "<div>\n",
       "<style scoped>\n",
       "    .dataframe tbody tr th:only-of-type {\n",
       "        vertical-align: middle;\n",
       "    }\n",
       "\n",
       "    .dataframe tbody tr th {\n",
       "        vertical-align: top;\n",
       "    }\n",
       "\n",
       "    .dataframe thead th {\n",
       "        text-align: right;\n",
       "    }\n",
       "</style>\n",
       "<table border=\"1\" class=\"dataframe\">\n",
       "  <thead>\n",
       "    <tr style=\"text-align: right;\">\n",
       "      <th></th>\n",
       "      <th>type</th>\n",
       "      <th>item</th>\n",
       "      <th>host</th>\n",
       "      <th>trigger</th>\n",
       "      <th>event</th>\n",
       "      <th>usc_das_id</th>\n",
       "    </tr>\n",
       "  </thead>\n",
       "  <tbody>\n",
       "    <tr>\n",
       "      <th>count</th>\n",
       "      <td>1</td>\n",
       "      <td>1</td>\n",
       "      <td>1</td>\n",
       "      <td>1</td>\n",
       "      <td>1</td>\n",
       "      <td>1</td>\n",
       "    </tr>\n",
       "    <tr>\n",
       "      <th>unique</th>\n",
       "      <td>1</td>\n",
       "      <td>1</td>\n",
       "      <td>1</td>\n",
       "      <td>1</td>\n",
       "      <td>1</td>\n",
       "      <td>1</td>\n",
       "    </tr>\n",
       "    <tr>\n",
       "      <th>top</th>\n",
       "      <td>event</td>\n",
       "      <td>[811.52 Kbps, 974598, , Tráfego de Saida Gigab...</td>\n",
       "      <td>[router106, LBS-f106-router, 172.17.106.1]</td>\n",
       "      <td>[Average, , 3, Lebes - Filiais, Lebes - Geral,...</td>\n",
       "      <td>[PROBLEM, 3, , 18:26:17, 2019.04.02, 363712005...</td>\n",
       "      <td>gGK07aOLxP5n6Mmn97WQ6rNvlbBkYZeA</td>\n",
       "    </tr>\n",
       "    <tr>\n",
       "      <th>freq</th>\n",
       "      <td>1</td>\n",
       "      <td>1</td>\n",
       "      <td>1</td>\n",
       "      <td>1</td>\n",
       "      <td>1</td>\n",
       "      <td>1</td>\n",
       "    </tr>\n",
       "  </tbody>\n",
       "</table>\n",
       "</div>"
      ],
      "text/plain": [
       "         type                                               item  \\\n",
       "count       1                                                  1   \n",
       "unique      1                                                  1   \n",
       "top     event  [811.52 Kbps, 974598, , Tráfego de Saida Gigab...   \n",
       "freq        1                                                  1   \n",
       "\n",
       "                                              host  \\\n",
       "count                                            1   \n",
       "unique                                           1   \n",
       "top     [router106, LBS-f106-router, 172.17.106.1]   \n",
       "freq                                             1   \n",
       "\n",
       "                                                  trigger  \\\n",
       "count                                                   1   \n",
       "unique                                                  1   \n",
       "top     [Average, , 3, Lebes - Filiais, Lebes - Geral,...   \n",
       "freq                                                    1   \n",
       "\n",
       "                                                    event  \\\n",
       "count                                                   1   \n",
       "unique                                                  1   \n",
       "top     [PROBLEM, 3, , 18:26:17, 2019.04.02, 363712005...   \n",
       "freq                                                    1   \n",
       "\n",
       "                              usc_das_id  \n",
       "count                                  1  \n",
       "unique                                 1  \n",
       "top     gGK07aOLxP5n6Mmn97WQ6rNvlbBkYZeA  \n",
       "freq                                   1  "
      ]
     },
     "execution_count": 5,
     "metadata": {},
     "output_type": "execute_result"
    }
   ],
   "source": [
    "data.describe()"
   ]
  },
  {
   "cell_type": "code",
   "execution_count": 6,
   "metadata": {},
   "outputs": [
    {
     "data": {
      "text/html": [
       "<div>\n",
       "<style scoped>\n",
       "    .dataframe tbody tr th:only-of-type {\n",
       "        vertical-align: middle;\n",
       "    }\n",
       "\n",
       "    .dataframe tbody tr th {\n",
       "        vertical-align: top;\n",
       "    }\n",
       "\n",
       "    .dataframe thead th {\n",
       "        text-align: right;\n",
       "    }\n",
       "</style>\n",
       "<table border=\"1\" class=\"dataframe\">\n",
       "  <thead>\n",
       "    <tr style=\"text-align: right;\">\n",
       "      <th></th>\n",
       "      <th>type</th>\n",
       "      <th>item</th>\n",
       "      <th>host</th>\n",
       "      <th>trigger</th>\n",
       "      <th>event</th>\n",
       "      <th>usc_das_id</th>\n",
       "    </tr>\n",
       "  </thead>\n",
       "  <tbody>\n",
       "    <tr>\n",
       "      <th>0</th>\n",
       "      <td>event</td>\n",
       "      <td>[811.52 Kbps, 974598, , Tráfego de Saida Gigab...</td>\n",
       "      <td>[router106, LBS-f106-router, 172.17.106.1]</td>\n",
       "      <td>[Average, , 3, Lebes - Filiais, Lebes - Geral,...</td>\n",
       "      <td>[PROBLEM, 3, , 18:26:17, 2019.04.02, 363712005...</td>\n",
       "      <td>gGK07aOLxP5n6Mmn97WQ6rNvlbBkYZeA</td>\n",
       "    </tr>\n",
       "  </tbody>\n",
       "</table>\n",
       "</div>"
      ],
      "text/plain": [
       "    type                                               item  \\\n",
       "0  event  [811.52 Kbps, 974598, , Tráfego de Saida Gigab...   \n",
       "\n",
       "                                         host  \\\n",
       "0  [router106, LBS-f106-router, 172.17.106.1]   \n",
       "\n",
       "                                             trigger  \\\n",
       "0  [Average, , 3, Lebes - Filiais, Lebes - Geral,...   \n",
       "\n",
       "                                               event  \\\n",
       "0  [PROBLEM, 3, , 18:26:17, 2019.04.02, 363712005...   \n",
       "\n",
       "                         usc_das_id  \n",
       "0  gGK07aOLxP5n6Mmn97WQ6rNvlbBkYZeA  "
      ]
     },
     "execution_count": 6,
     "metadata": {},
     "output_type": "execute_result"
    }
   ],
   "source": [
    "data.head()"
   ]
  },
  {
   "cell_type": "code",
   "execution_count": 7,
   "metadata": {},
   "outputs": [
    {
     "name": "stdout",
     "output_type": "stream",
     "text": [
      "item\n"
     ]
    },
    {
     "ename": "NameError",
     "evalue": "name 'df' is not defined",
     "output_type": "error",
     "traceback": [
      "\u001b[0;31m---------------------------------------------------------------------------\u001b[0m",
      "\u001b[0;31mNameError\u001b[0m                                 Traceback (most recent call last)",
      "\u001b[0;32m<ipython-input-7-aa40317ede3f>\u001b[0m in \u001b[0;36m<module>\u001b[0;34m\u001b[0m\n\u001b[1;32m      1\u001b[0m \u001b[0;34m\u001b[0m\u001b[0m\n\u001b[1;32m      2\u001b[0m \u001b[0mprint\u001b[0m\u001b[0;34m(\u001b[0m\u001b[0;34m\"item\"\u001b[0m\u001b[0;34m)\u001b[0m\u001b[0;34m\u001b[0m\u001b[0;34m\u001b[0m\u001b[0m\n\u001b[0;32m----> 3\u001b[0;31m \u001b[0mprint\u001b[0m\u001b[0;34m(\u001b[0m\u001b[0;34m\"item value = \"\u001b[0m \u001b[0;34m+\u001b[0m \u001b[0mdf\u001b[0m\u001b[0;34m.\u001b[0m\u001b[0mitem\u001b[0m\u001b[0;34m[\u001b[0m\u001b[0;36m0\u001b[0m\u001b[0;34m]\u001b[0m\u001b[0;34m[\u001b[0m\u001b[0;36m0\u001b[0m\u001b[0;34m]\u001b[0m\u001b[0;34m)\u001b[0m\u001b[0;34m\u001b[0m\u001b[0;34m\u001b[0m\u001b[0m\n\u001b[0m\u001b[1;32m      4\u001b[0m \u001b[0mprint\u001b[0m\u001b[0;34m(\u001b[0m\u001b[0;34m\"item id = \"\u001b[0m \u001b[0;34m+\u001b[0m \u001b[0mdf\u001b[0m\u001b[0;34m.\u001b[0m\u001b[0mitem\u001b[0m\u001b[0;34m[\u001b[0m\u001b[0;36m0\u001b[0m\u001b[0;34m]\u001b[0m\u001b[0;34m[\u001b[0m\u001b[0;36m1\u001b[0m\u001b[0;34m]\u001b[0m\u001b[0;34m)\u001b[0m\u001b[0;34m\u001b[0m\u001b[0;34m\u001b[0m\u001b[0m\n\u001b[1;32m      5\u001b[0m \u001b[0mprint\u001b[0m\u001b[0;34m(\u001b[0m\u001b[0;34m\"item descr = \"\u001b[0m \u001b[0;34m+\u001b[0m \u001b[0mdf\u001b[0m\u001b[0;34m.\u001b[0m\u001b[0mitem\u001b[0m\u001b[0;34m[\u001b[0m\u001b[0;36m0\u001b[0m\u001b[0;34m]\u001b[0m\u001b[0;34m[\u001b[0m\u001b[0;36m2\u001b[0m\u001b[0;34m]\u001b[0m\u001b[0;34m)\u001b[0m\u001b[0;34m\u001b[0m\u001b[0;34m\u001b[0m\u001b[0m\n",
      "\u001b[0;31mNameError\u001b[0m: name 'df' is not defined"
     ]
    }
   ],
   "source": [
    "\n",
    "print(\"item\")\n",
    "print(\"item value = \" + df.item[0][0])\n",
    "print(\"item id = \" + df.item[0][1])\n",
    "print(\"item descr = \" + df.item[0][2])\n",
    "print(\"item name = \" + df.item[0][3])\n",
    "\n",
    "print(\"\\nhost:\")\n",
    "print(\"host address = \" + df.host[0][0])\n",
    "print(\"host name= \" + df.host[0][1])\n",
    "print(\"host conn= \" + df.host[0][2])\n",
    "\n",
    "print(\"\\ntrigger:\")\n",
    "print(\"trigger severity = \" + df.trigger[0][0])\n",
    "print(\"trigger descr = \" + df.trigger[0][1])\n",
    "print(\"trigger nseverity = \" + df.trigger[0][2])\n",
    "print(\"trigger hostgroup_name= \" + df.trigger[0][3])\n",
    "print(\"trigger value = \" + df.trigger[0][4])\n",
    "print(\"trigger id = \" + df.trigger[0][5])\n",
    "print(\"trigger name = \" + df.trigger[0][6])\n",
    "\n",
    "\n",
    "print(\"\\nevent:\")\n",
    "print(\"event status = \" + df.event[0][0])\n",
    "print(\"event severity = \" + df.event[0][1])\n",
    "print(\"event tags = \" + df.event[0][2])\n",
    "print(\"event time = \" + df.event[0][3])\n",
    "print(\"event date = \" + df.event[0][4])\n",
    "print(\"event id = \" + df.event[0][5])\n",
    "print(\"event name = \" + df.event[0][6])"
   ]
  },
  {
   "cell_type": "code",
   "execution_count": null,
   "metadata": {},
   "outputs": [],
   "source": []
  }
 ],
 "metadata": {
  "kernelspec": {
   "display_name": "Python 3",
   "language": "python",
   "name": "python3"
  },
  "language_info": {
   "codemirror_mode": {
    "name": "ipython",
    "version": 3
   },
   "file_extension": ".py",
   "mimetype": "text/x-python",
   "name": "python",
   "nbconvert_exporter": "python",
   "pygments_lexer": "ipython3",
   "version": "3.7.1"
  }
 },
 "nbformat": 4,
 "nbformat_minor": 2
}
